{
 "cells": [
  {
   "cell_type": "code",
   "execution_count": 2,
   "id": "6b768c43-0727-4807-bacf-616e2cea3928",
   "metadata": {},
   "outputs": [],
   "source": [
    "import arviz as az\n",
    "import matplotlib.pyplot as plt\n",
    "import numpy as np\n",
    "import pandas as pd\n",
    "import pymc as pm"
   ]
  },
  {
   "cell_type": "code",
   "execution_count": 3,
   "id": "3199f00d-6baa-4b73-b115-a510096e0d3e",
   "metadata": {},
   "outputs": [],
   "source": [
    "import pymc.sampling_jax"
   ]
  },
  {
   "cell_type": "markdown",
   "id": "71d880d0",
   "metadata": {},
   "source": [
    "# Section 30: Art different way\n",
    "There's more than one way to draw a curve"
   ]
  },
  {
   "cell_type": "markdown",
   "id": "f9608c79",
   "metadata": {},
   "source": [
    "In the previous lesson we took a functional approach to drawing curves\n",
    "\n",
    "we \n",
    "1. Defined a function\n",
    "2. Listed the parameters\n",
    "3. Figured out the way to get the \"best\" parameters given **all** the observed data\n",
    "  * Minimizing sum of least squares\n",
    "  * Using Bayesian estimation (which is basically the same thing)\n",
    " "
   ]
  },
  {
   "cell_type": "markdown",
   "id": "de72ab9c",
   "metadata": {},
   "source": [
    "## Estimating a point for 2022\n",
    "Let's just focus on one date. 2022.00. If we needed pick a point for this what where would we put it?\n",
    "\n",
    "If we use our previous approach, since were just minimizing sum of squares, the error for this dot way far on the left, has equal weight to this error which is right by our x value of interest"
   ]
  },
  {
   "cell_type": "markdown",
   "id": "210699b5",
   "metadata": {},
   "source": [
    "## But is this what a 5 year old would do?\n",
    "Think about it, would a five year old draw a fixed function then say, ok what I need to do is minimize this residual?"
   ]
  },
  {
   "cell_type": "markdown",
   "id": "06f886fe",
   "metadata": {},
   "source": [
    "## Some sample points\n",
    "Here's 4 proposals, there's nothing special about them, we're just picking these four to be concrete.\n",
    "\n",
    "If we look at them, this one feels \"too high\", \"this one\" feels too low, these two seems the most plausible but this one seems right"
   ]
  },
  {
   "cell_type": "markdown",
   "id": "e68513f1",
   "metadata": {},
   "source": [
    "## What did we do here\n",
    "Our guess is you took a look at the points that were closest to 2022 and \"eyed out\" where the correct placement was.\n",
    "\n",
    "Importantly our guess is you *did not* consider these other points here"
   ]
  },
  {
   "cell_type": "markdown",
   "id": "6e1a4c76",
   "metadata": {},
   "source": [
    "## Formalizing this"
   ]
  },
  {
   "cell_type": "markdown",
   "id": "e983777d",
   "metadata": {},
   "source": [
    "Because were mathematicians we can formalize this. We can take the values of the two points closest and take the average to figure out the y distance.\n",
    "\n",
    "LEts do that again here for this point and this point. So far so good right! \n",
    "\n",
    "Writing down our steps.\n",
    "\n",
    "1. Look at the two closest points\n",
    "2. Take the average"
   ]
  },
  {
   "cell_type": "markdown",
   "id": "a1c6b754",
   "metadata": {},
   "source": [
    "##  Freeing ourselves of the functional form\n",
    "This is amazing now we dont need to define a functional form. This method should work equally well on any arbitrary function. Lets now extend"
   ]
  },
  {
   "cell_type": "markdown",
   "id": "b8f65342",
   "metadata": {},
   "source": [
    "## Something seems off\n",
    "But when we extend this to all X we get this. Now there is nothing mathematically wrong with this, this is called a windowed average and its very useful in many types of models, but its not exactly what we were hoping to get.\n",
    "\n",
    "To make this concrete again lets focus back around 2022"
   ]
  },
  {
   "cell_type": "markdown",
   "id": "9dd79477",
   "metadata": {},
   "source": [
    "## One point should matter more than the other\n",
    "\n",
    "As we move closer to the dot on the right, we'd assume that our estimated points would go up, since the dot on the right \"matters more\" as its closer. But because were just selecting the two closest points and averaging that doesn't work\n",
    "\n",
    "\n"
   ]
  },
  {
   "cell_type": "markdown",
   "id": "0cabfd37",
   "metadata": {},
   "source": [
    "## And what about all the other data points?\n",
    "You might say, why only two closet data points were throwing away information. Youre right we are and its a problem. But picking the 3, or 4 closest points, and 10 data points and see what happens. We made an exercise so be sure to do it to see what were talking about \n",
    "\n",
    "But for now here's a spoiler, in the next section we'll show you how to overcome this challenge. So with that lets go to the section recap"
   ]
  },
  {
   "cell_type": "markdown",
   "id": "1bc3d2cc",
   "metadata": {},
   "source": [
    "## Section Recap\n",
    "* There are ways to find that are *not* optimizing over hand selected functional models\n",
    "  * In this paradigm every data point whether close or far to a particular x value has the same weight\n",
    "* Intuitively it makes sense that closer observed data should be more influential\n",
    "* Windowed averaging is one method\n",
    "  * Works great when the x value of interest is at the midpoint of two observations\n",
    "  * Does not work so great when we start moving closer to one point or another"
   ]
  },
  {
   "cell_type": "markdown",
   "id": "4e654c1c",
   "metadata": {},
   "source": [
    "## Section 40: SImilarity Functions\n",
    "The best of both worlds"
   ]
  },
  {
   "cell_type": "markdown",
   "id": "c0287b44",
   "metadata": {},
   "source": [
    "* So we saw that averaging doesnt work and we need to weight the data somehow. Lets try this weighting function\n",
    "* Wow this is so cool see how well it does so awesome\n",
    "* But is this a GP? Turns out it isnt. This kernel estimator while good has a couple of issues,\n",
    " * such as lacking uncertainty\n",
    " * Something Else\n",
    " * Something else\n",
    "\n",
    "* A full GP solves those issues\n",
    "* What a full GP would look like is this but as you can see there's a lot more going on. Thatll be for the next lesson"
   ]
  },
  {
   "cell_type": "markdown",
   "id": "ea7e6cb6",
   "metadata": {},
   "source": [
    "# Art class lesson recap\n",
    "* Functional forms are great people use them all the time\n",
    "  * but you gotta figure out the function\n",
    "  * There might not be a function that fits your data\n",
    "* Its much more intuitive to use the closest data points to draw a line.\n",
    "* Moving average is one way to do that but it has challenges\n",
    "* Kernels let us weight data point which is great but again is lacking in some ways\n",
    "* GPs solve all these issues"
   ]
  }
 ],
 "metadata": {
  "celltoolbar": "Slideshow",
  "kernelspec": {
   "display_name": "Python 3 (ipykernel)",
   "language": "python",
   "name": "python3"
  },
  "language_info": {
   "codemirror_mode": {
    "name": "ipython",
    "version": 3
   },
   "file_extension": ".py",
   "mimetype": "text/x-python",
   "name": "python",
   "nbconvert_exporter": "python",
   "pygments_lexer": "ipython3",
   "version": "3.10.4"
  }
 },
 "nbformat": 4,
 "nbformat_minor": 5
}
