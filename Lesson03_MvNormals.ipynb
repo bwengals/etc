{
 "cells": [
  {
   "cell_type": "markdown",
   "id": "400679b1",
   "metadata": {},
   "source": [
    "# Lesson 3"
   ]
  },
  {
   "cell_type": "markdown",
   "id": "d8b63ab1-2923-4baf-9095-2ffb9d79e577",
   "metadata": {},
   "source": [
    "# Random variables to random vectors to random functions\n",
    "\n",
    "In this lesson we'll progress through random variables to random vectors to random functions.  We'll find at the end that we've fit our first GP!"
   ]
  },
  {
   "cell_type": "code",
   "execution_count": 1,
   "id": "a3a54682-e890-4949-b0e8-070ce9eb40d4",
   "metadata": {},
   "outputs": [
    {
     "ename": "ModuleNotFoundError",
     "evalue": "No module named 'jax'",
     "output_type": "error",
     "traceback": [
      "\u001b[0;31m---------------------------------------------------------------------------\u001b[0m",
      "\u001b[0;31mModuleNotFoundError\u001b[0m                       Traceback (most recent call last)",
      "Cell \u001b[0;32mIn [1], line 5\u001b[0m\n\u001b[1;32m      3\u001b[0m \u001b[38;5;28;01mimport\u001b[39;00m \u001b[38;5;21;01mpandas\u001b[39;00m \u001b[38;5;28;01mas\u001b[39;00m \u001b[38;5;21;01mpd\u001b[39;00m\n\u001b[1;32m      4\u001b[0m \u001b[38;5;28;01mimport\u001b[39;00m \u001b[38;5;21;01mpymc\u001b[39;00m \u001b[38;5;28;01mas\u001b[39;00m \u001b[38;5;21;01mpm\u001b[39;00m\n\u001b[0;32m----> 5\u001b[0m \u001b[38;5;28;01mimport\u001b[39;00m \u001b[38;5;21;01mpymc\u001b[39;00m\u001b[38;5;21;01m.\u001b[39;00m\u001b[38;5;21;01msampling_jax\u001b[39;00m\n\u001b[1;32m      6\u001b[0m \u001b[38;5;28;01mimport\u001b[39;00m \u001b[38;5;21;01mmatplotlib\u001b[39;00m\u001b[38;5;21;01m.\u001b[39;00m\u001b[38;5;21;01mpyplot\u001b[39;00m \u001b[38;5;28;01mas\u001b[39;00m \u001b[38;5;21;01mplt\u001b[39;00m\n\u001b[1;32m      7\u001b[0m \u001b[38;5;28;01mimport\u001b[39;00m \u001b[38;5;21;01mnumpy\u001b[39;00m \u001b[38;5;28;01mas\u001b[39;00m \u001b[38;5;21;01mnp\u001b[39;00m\n",
      "File \u001b[0;32m~/miniconda3/envs/ib_advanced_regression/lib/python3.10/site-packages/pymc/sampling_jax.py:20\u001b[0m\n\u001b[1;32m     18\u001b[0m \u001b[38;5;28;01mimport\u001b[39;00m \u001b[38;5;21;01maesara\u001b[39;00m\u001b[38;5;21;01m.\u001b[39;00m\u001b[38;5;21;01mtensor\u001b[39;00m \u001b[38;5;28;01mas\u001b[39;00m \u001b[38;5;21;01mat\u001b[39;00m\n\u001b[1;32m     19\u001b[0m \u001b[38;5;28;01mimport\u001b[39;00m \u001b[38;5;21;01marviz\u001b[39;00m \u001b[38;5;28;01mas\u001b[39;00m \u001b[38;5;21;01maz\u001b[39;00m\n\u001b[0;32m---> 20\u001b[0m \u001b[38;5;28;01mimport\u001b[39;00m \u001b[38;5;21;01mjax\u001b[39;00m\n\u001b[1;32m     21\u001b[0m \u001b[38;5;28;01mimport\u001b[39;00m \u001b[38;5;21;01mnumpy\u001b[39;00m \u001b[38;5;28;01mas\u001b[39;00m \u001b[38;5;21;01mnp\u001b[39;00m\n\u001b[1;32m     23\u001b[0m \u001b[38;5;28;01mfrom\u001b[39;00m \u001b[38;5;21;01maeppl\u001b[39;00m\u001b[38;5;21;01m.\u001b[39;00m\u001b[38;5;21;01mlogprob\u001b[39;00m \u001b[38;5;28;01mimport\u001b[39;00m CheckParameterValue\n",
      "\u001b[0;31mModuleNotFoundError\u001b[0m: No module named 'jax'"
     ]
    }
   ],
   "source": [
    "import arviz as az\n",
    "import aesara.tensor as at\n",
    "import pandas as pd\n",
    "import pymc as pm\n",
    "import pymc.sampling_jax\n",
    "import matplotlib.pyplot as plt\n",
    "import numpy as np"
   ]
  },
  {
   "cell_type": "markdown",
   "id": "93a3cd16-3b54-44c0-a626-0fd2217387c3",
   "metadata": {},
   "source": [
    "# Section 10: Random Variables vs Random Vectors\n",
    "Getting multidimensionakl"
   ]
  },
  {
   "cell_type": "markdown",
   "id": "71171d1b",
   "metadata": {},
   "source": [
    "## Random Variable Refresher"
   ]
  },
  {
   "cell_type": "markdown",
   "id": "28e95f52",
   "metadata": {},
   "source": [
    "$ \\theta ~ N(10, 1)$"
   ]
  },
  {
   "cell_type": "code",
   "execution_count": null,
   "id": "24a7678b-e5c5-4141-bd82-910b966dfca0",
   "metadata": {},
   "outputs": [],
   "source": [
    "theta = pm.draw(pm.Normal.dist(mu=10, sigma=1), 50_000)\n",
    "\n",
    "az.plot_dist(theta);"
   ]
  },
  {
   "cell_type": "markdown",
   "id": "e73423cb",
   "metadata": {},
   "source": [
    "By now the idea of a random variable should be quite familiar. A random variable is one who's exact outpput we don't know exactly, but is defined by some sort of distribution. Here is a random variable X defined in both math notation, and also defined computationally. The cool part of the computational one is we don't just have to look at it, we can do things like draw 10k random samples and plot them!"
   ]
  },
  {
   "cell_type": "markdown",
   "id": "d7f31cb3-949e-4f72-a472-df4a48585deb",
   "metadata": {},
   "source": [
    "## Now let's generalize to random vectors"
   ]
  },
  {
   "cell_type": "code",
   "execution_count": null,
   "id": "953babae-36b2-46fb-95a2-483691aa3890",
   "metadata": {},
   "outputs": [],
   "source": [
    "# Make three random variables, put them into a vector\n",
    "theta1 = pm.Normal.dist(mu=4, sigma=1)\n",
    "theta2 = pm.Normal.dist(mu=2, sigma=2)\n",
    "theta3 = pm.Normal.dist(mu=6, sigma=0.5)\n",
    "\n",
    "# Stick the three random variables together into a random vector\n",
    "random_vector = [theta1, theta2, theta3]\n",
    "\n",
    "# 3 random values from one draw in a random vector\n",
    "random_vector"
   ]
  },
  {
   "cell_type": "markdown",
   "id": "227e082f",
   "metadata": {},
   "source": [
    "In this first example, the distinction between random vector and random variable is just semantic.  A random vector at it's simplest is just random variables stuck together. \n",
    "\n",
    "What you should ppay attention too though is the shape! Each time we take draw a sample from this random vector we **always** get three random values\n"
   ]
  },
  {
   "cell_type": "code",
   "execution_count": null,
   "id": "a67134dd",
   "metadata": {},
   "outputs": [],
   "source": []
  },
  {
   "cell_type": "markdown",
   "id": "07a6adcb",
   "metadata": {},
   "source": [
    "## Plotting Random vectors"
   ]
  },
  {
   "cell_type": "code",
   "execution_count": null,
   "id": "d90e8971-b34c-47b8-8a8b-d365444bedf5",
   "metadata": {},
   "outputs": [],
   "source": [
    "colors = [\"C0\", \"C1\", \"C3\"]\n",
    "\n",
    "for i in range(3):\n",
    "    az.plot_dist(samples[:, i], color=colors[i], label=\"theta\" + str(i+1))\n",
    "\n",
    "plt.title(\"Histogram of each element in our random vector\");\n",
    "plt.xlim([-3, 12]);\n",
    "plt.ylim([0.0, 0.9]);"
   ]
  },
  {
   "cell_type": "markdown",
   "id": "7d20f551-7f6c-4318-845f-9a940cca2f10",
   "metadata": {},
   "source": [
    "This is cool, now we have three normal distributions and we can plot each of them, but you be asking, why do I care? Isn't this just the same thing as if I created 3 normal variables and plotted each one, and the answer is yes"
   ]
  },
  {
   "cell_type": "markdown",
   "id": "a3bd3c58",
   "metadata": {},
   "source": [
    "## Shape of random variables"
   ]
  },
  {
   "cell_type": "code",
   "execution_count": null,
   "id": "78908de8",
   "metadata": {},
   "outputs": [],
   "source": [
    "stats.norm()"
   ]
  },
  {
   "cell_type": "code",
   "execution_count": null,
   "id": "9e17d6eb",
   "metadata": {},
   "outputs": [],
   "source": []
  },
  {
   "cell_type": "markdown",
   "id": "bba2a5ed",
   "metadata": {},
   "source": [
    "Once we start moving into higher dimensions one thing to really pay attention to is shapes. Shapes tell you how many random values you have and how they're structured. For instance a random variable of shape (2,3) is different than one (3,2). Now right now"
   ]
  },
  {
   "cell_type": "markdown",
   "id": "b32b8539",
   "metadata": {},
   "source": [
    "## 2 people shooting 10 goals, versus 10 people shooting 2 goals"
   ]
  },
  {
   "cell_type": "markdown",
   "id": "ec76d464",
   "metadata": {},
   "source": []
  },
  {
   "cell_type": "markdown",
   "id": "a96cc93a",
   "metadata": {},
   "source": [
    "Imagine if were studying how often people successfully shoot a goal and get a point in football, or soccer for your americans. \n",
    "\n",
    "We have two people line up to two goals, and each time we tell them they make a shot. We could ask 2 people to shoow 10 goals, and end up with 20 values, \n",
    "\n",
    "\n",
    "Now imagine we have 10 pepople shoot lined up and this time we only say go twice 2 goals. In each case we end up with 20 values but the manner in which they were generated is subtly different.\n",
    "\n",
    "In one one instance one event generated 2 random values, and in another once instance generated \n",
    "\n"
   ]
  },
  {
   "cell_type": "markdown",
   "id": "c3ba5d96",
   "metadata": {},
   "source": [
    "## The meaning of dimensions\n"
   ]
  },
  {
   "cell_type": "markdown",
   "id": "51851170",
   "metadata": {},
   "source": [
    "What this also means is that semantically the dimensions can take on some meaning. Mathematically it's the same, but in terms interpretatbility there's a big difference"
   ]
  },
  {
   "cell_type": "markdown",
   "id": "4004bbdd",
   "metadata": {},
   "source": []
  },
  {
   "cell_type": "markdown",
   "id": "82cf18b5",
   "metadata": {},
   "source": [
    "## Independence assumption"
   ]
  },
  {
   "cell_type": "markdown",
   "id": "c2113f8b",
   "metadata": {},
   "source": []
  },
  {
   "cell_type": "markdown",
   "id": "b8528e50",
   "metadata": {},
   "source": [
    "So you're probably thinking If everything is independent random vectors whats the point. To become a random vector, all we did was stick them together into a list and start thinking about them as something that works together as one \"unit\".  Usually though, there's not much of a point of talking about random vectors when their random variables have no relationship. And in many cases, like our soccer example, they do. But there are many situations where things are related, so lets get to that."
   ]
  },
  {
   "cell_type": "markdown",
   "id": "2699f007",
   "metadata": {},
   "source": [
    "## Random vectors in PyMC, SciPY, and Numpy"
   ]
  },
  {
   "cell_type": "code",
   "execution_count": null,
   "id": "2f4a8d4b",
   "metadata": {},
   "outputs": [],
   "source": [
    "# Draw samples from the random vector\n",
    "samples = pm.draw(at.as_tensor_variable(random_vector), draws=10_000)\n",
    "print(\"Shape of samples:\", samples.shape)"
   ]
  },
  {
   "cell_type": "markdown",
   "id": "f1dd7e1c",
   "metadata": {},
   "source": [
    "Random vectors are so useful that there's actually APIs to draw random vectors in numpy, scipy, and PyMC all shown here. Mathematically they all represent the same thing. Computationally they're provided in all libraries for convenience, but in the PyMC case also to facililate additional computations such as calculating quantities like gradients. If you're interseted in that go take the MCMC class.\n",
    "\n",
    "Suffice to say, random vectors are quite common so its best you get used to them, especially if you're in the GP this GP class."
   ]
  },
  {
   "cell_type": "markdown",
   "id": "4bd8a288",
   "metadata": {},
   "source": [
    "## Section Recap\n",
    "* Random variables are mathematical concepts typically denoted $x$\n",
    "  * A single random draw is one _realized_ number \n",
    "* Random variables can be grouped together in random vectors, typically denoted in uppercase as $X$\n",
    "  * A single random draw generates a vector of realized numbers\n",
    "  * In our case we got 3\n",
    "* Random variables can be represented as objects\n",
    "  * In PyData stack typically scipy and numpy can bve used to instantiate random variables\n",
    "  * We use Aesara as it provides extra functionality for Bayesian inference\n",
    "* \n",
    "  * \n"
   ]
  },
  {
   "cell_type": "markdown",
   "id": "e33bd717-cd21-4325-8e3d-770be4c92cf8",
   "metadata": {},
   "source": [
    "# Sec 20: Multivariate normals\n",
    "\n",
    "The most important type of random vector for this course is the multivariate normal.  **A multivariate normal distribution is a set of normal random, like the above example, but, they have correlations between each other -- they are not independent**.  In this section, we are going to intuitively describe multivariate normals.  Like kernels, MvNs are a key building block in Gaussian processes.  They're the \"Gaussian\" part, after all.  \n",
    "\n",
    "It's important to start by saying that multivariate normals are a generalization of univariate normals.  Meaning, it's equivalent to describe a set of univariate (like the ones above) distributions as a special type of the multivariate case.\n",
    "\n",
    "What does this look like?  Let's start with the simplest case.  A two dimensional multivariate normal.  We'll start here because it's possible to visualize it in two dimensions.  Lets plot samples for two normal random variables that are independent on a scatterplot.  "
   ]
  },
  {
   "cell_type": "code",
   "execution_count": null,
   "id": "839293ae-cd63-40ec-8f63-c29c18c40b38",
   "metadata": {},
   "outputs": [],
   "source": [
    "mu = 0.0\n",
    "sigma = 1.0\n",
    "\n",
    "x1 = pm.draw(pm.Normal.dist(mu=mu, sigma=sigma), 1000)\n",
    "x2 = pm.draw(pm.Normal.dist(mu=mu, sigma=sigma), 1000)\n",
    "\n",
    "axs = az.plot_pair(\n",
    "    {\"x1\": x1, \"x2\": x2},\n",
    "    kind=[\"scatter\", \"kde\"],\n",
    "    marginals=True,\n",
    "    figsize=(8, 9),\n",
    "); axs = axs.flatten()\n",
    "\n",
    "axs[2].set_xlim([-5, 5])\n",
    "axs[2].set_ylim([-5, 5]);"
   ]
  },
  {
   "cell_type": "markdown",
   "id": "7f1978f3-06ad-4b90-ba88-dbcd9a4b0eb0",
   "metadata": {},
   "source": [
    "Notice that I took care to make the figure a square, and to set the axis limits.  Feel free to rerun this code a few times, and draw more samples.  You'll see that the scatter plot always makes a perfect circle -- if you were to sample infinitely of course.  On the top and on the right there are two other plots verifying that this is in fact two, one dimensional normals.  This is the equation for the probability density function for a univariate normal (you've probably seen this before):\n",
    "\n",
    "$$\n",
    "p(x \\mid \\mu, \\sigma) = \\frac{1}{\\sigma\\sqrt{2\\pi}} \\exp\\left[ \\frac{(x - \\mu)^2}{2\\sigma^2} \\right]\n",
    "$$\n",
    "You may not have noticed that factor of $2\\pi$ in the denominator.  $\\pi$ is of course, all about circles. There are interesting mathematical connections between normals and circles, but we won't get into that here.  You may find that some people describe multivariate normals as \"spherical\", or as having some amount of \"sphericity\".  To show why they say this, let's add a dimension and turn our 2d scatterplot into a 3d scatterplot."
   ]
  },
  {
   "cell_type": "code",
   "execution_count": null,
   "id": "a81e7821-794c-41e4-9072-360a851ef24a",
   "metadata": {},
   "outputs": [],
   "source": [
    "x3 = pm.draw(pm.Normal.dist(mu=mu, sigma=sigma), 1000)\n",
    "\n",
    "fig = plt.figure()\n",
    "ax = fig.add_subplot(projection='3d')\n",
    "\n",
    "ax.scatter(x1, x2, x3, alpha=0.3);\n",
    "\n",
    "ax.set_xlim([-5, 5])\n",
    "ax.set_ylim([-5, 5]);\n",
    "ax.set_zlim([-5, 5]);"
   ]
  },
  {
   "cell_type": "markdown",
   "id": "10525318-e300-49e3-b022-fa8cd9d67381",
   "metadata": {},
   "source": [
    "### Spheres\n",
    "\n",
    "Instead of a circle, now it's a sphere!  It's really very difficult to imagine, but try and picture in your mind what this would look like if you added, one more dimension.  You go from a circle in 2d, to a sphere in 3d, to a \"sphere\" in 4d (you could call it a hypersphere if you want to sound, extra nerdy).  We live in a 3 dimensional world (4 if you count time, which unlike the other three dimensions, seems to only go one way), so I don't want to say it's impossible to picture this round blob in 4 dimensions, because maybe someone out there can, but I can't.  I do think it's important to try though, and to sort of see if you can get a sense of it."
   ]
  },
  {
   "cell_type": "markdown",
   "id": "4a149ea6-2337-4d9d-9a32-fe03cae94de6",
   "metadata": {},
   "source": [
    "It's an important concept to at least try and wrap your brain around, because spoiler alert: Gaussian processes are actually *infinite* dimensional.  It is important to have some sense of what this means when working with them and developing models with them.  Also, the result of any Bayesian model is actually a high dimensional posterior distribution.  Many hurdles that you face working with real data, flow down from the fact that high dimensional things are difficult to visualize and tricky to deal with.  Even so, having some intuition here means that you can tackle problems and that may have seemed impossible before! "
   ]
  },
  {
   "cell_type": "markdown",
   "id": "eaa7a485-ef19-44eb-bfb5-014bbe249e5b",
   "metadata": {},
   "source": [
    "Thanks for coming to my TED talk.  Since we have work to do and lives to live, let's come back to the mortal plane.  Circles and spheres are cool and all, but let's make make a two dimensional multivariate normal, where there is some dependence between `x1` and `x2`.  You've understand the mean and variance or standard deviation parameters, but we'll need one more parameter, the covariance.  **The covariance parameter describes how strongly two random variables change together -- how much they co-vary**.  Let's draw some samples, show a 2d scatterplot, and then unpack what we're looking at."
   ]
  },
  {
   "cell_type": "code",
   "execution_count": null,
   "id": "c9f8e4fe-870d-4c34-91ef-426e341ad17c",
   "metadata": {},
   "outputs": [],
   "source": [
    "mu = [0.0, 0.0]\n",
    "sigma1 = 1.0\n",
    "sigma2 = 1.0\n",
    "covariance = 0.7\n",
    "cov = np.array([\n",
    "    [sigma1, covariance],\n",
    "    [covariance, sigma2]\n",
    "])\n",
    "samples = pm.draw(pm.MvNormal.dist(mu=mu, cov=cov), 1000)\n",
    "\n",
    "x1 = samples[:, 0]\n",
    "x2 = samples[:, 1]\n",
    "\n",
    "fig, ax = plt.subplots(1, 1, figsize=(6, 6))\n",
    "ax.scatter(x1, x2, alpha=0.3)\n",
    "ax.set_xlim([-5, 5])\n",
    "ax.set_ylim([-5, 5]);\n",
    "ax.set_xlabel(\"x1\");\n",
    "ax.set_ylabel(\"x2\");"
   ]
  },
  {
   "cell_type": "markdown",
   "id": "d5814fa1-7ac2-4e3e-99ff-36db38457f42",
   "metadata": {},
   "source": [
    "Instead of a perfect circle, we've now got a diagonal band.  The main new thing you might see here is `cov`.  This is the covariance matrix.  The covariance matrix is a square array of numbers, so there are always an equal number of rows and columns.  There is one row and one column per dimension.  That's why `cov` in this example is two by two.  Each row and each column correspond to one of the dimensions.  \n",
    "\n",
    "<style type=\"text/css\">\n",
    ".tg  {border-collapse:collapse;border-spacing:0;}\n",
    ".tg td{border-color:black;border-style:solid;border-width:1px;font-family:Arial, sans-serif;font-size:14px;\n",
    "  overflow:hidden;padding:10px 5px;word-break:normal;}\n",
    ".tg th{border-color:black;border-style:solid;border-width:1px;font-family:Arial, sans-serif;font-size:14px;\n",
    "  font-weight:normal;overflow:hidden;padding:10px 5px;word-break:normal;}\n",
    ".tg .tg-c3ow{border-color:inherit;text-align:center;vertical-align:top}\n",
    ".tg .tg-0pky{border-color:inherit;text-align:left;vertical-align:top}\n",
    "</style>\n",
    "<table class=\"tg\">\n",
    "<thead>\n",
    "  <tr>\n",
    "    <th class=\"tg-0pky\"></th>\n",
    "    <th class=\"tg-c3ow\"><span style=\"font-weight:bold\">Dimension 1</span></th>\n",
    "    <th class=\"tg-c3ow\"><span style=\"font-weight:bold\">Dimension 2</span></th>\n",
    "  </tr>\n",
    "</thead>\n",
    "<tbody>\n",
    "  <tr>\n",
    "    <td class=\"tg-0pky\"><span style=\"font-weight:bold\">Dimension 1</span></td>\n",
    "    <td class=\"tg-c3ow\">$\\sigma^2_{11}$</td>\n",
    "    <td class=\"tg-c3ow\">$\\sigma^2_{12}$</td>\n",
    "  </tr>\n",
    "  <tr>\n",
    "    <td class=\"tg-0pky\"><span style=\"font-weight:bold\">Dimension 2</span></td>\n",
    "    <td class=\"tg-c3ow\">$\\sigma^2_{12}$</td>\n",
    "    <td class=\"tg-c3ow\">$\\sigma^2_{22}$</td>\n",
    "  </tr>\n",
    "</tbody>\n",
    "</table>\n",
    "\n",
    "If you return to the scatterplot above, you'll see we used the positive value of 0.7.  The fact that this value is positive means, when x1 is large, its more likely that x2 is also large.  Lets cover the left two thirds of the plot:"
   ]
  },
  {
   "cell_type": "code",
   "execution_count": null,
   "id": "0bbca109-e424-4176-9538-08afbb218e48",
   "metadata": {},
   "outputs": [],
   "source": [
    "from matplotlib.patches import Rectangle\n",
    "\n",
    "mu = [0.0, 0.0]\n",
    "sigma1 = 1.0\n",
    "sigma2 = 1.0\n",
    "covariance = 0.7\n",
    "cov = np.array([\n",
    "    [sigma1, covariance],\n",
    "    [covariance, sigma2]\n",
    "])\n",
    "samples = pm.draw(pm.MvNormal.dist(mu=mu, cov=cov), 1000)\n",
    "\n",
    "x1 = samples[:, 0]\n",
    "x2 = samples[:, 1]\n",
    "\n",
    "fig, ax = plt.subplots(1, 1, figsize=(6, 6))\n",
    "ax.scatter(x1, x2, alpha=0.3)\n",
    "ax.set_xlim([-5, 5])\n",
    "ax.set_ylim([-5, 5])\n",
    "ax.set_xlabel(\"x1\");\n",
    "ax.set_ylabel(\"x2\");\n",
    "\n",
    "ax.add_patch(Rectangle((-5, -5), 6, 10, alpha=0.8, color=\"k\"));"
   ]
  },
  {
   "cell_type": "markdown",
   "id": "242b056c-482c-4734-893b-5da64e0e6bae",
   "metadata": {},
   "source": [
    "You can see it now, when `x2` is \"large\", meaning here, above 1, then the points usually are larger values of `x2`.  I'm using the word \"usually\" on purpose.  Some amount of covariance doesn't guarantee this to be true, it just makes it more likely.  However, the larger values of covariance, the more likely this is true.  To see that this is true, let's take a look at this when the covariance is one, equal to the variance:"
   ]
  },
  {
   "cell_type": "code",
   "execution_count": null,
   "id": "50f45376-792d-426c-baf0-c4e7a2f34332",
   "metadata": {},
   "outputs": [],
   "source": [
    "mu = [0.0, 0.0]\n",
    "sigma1 = 1.0\n",
    "sigma2 = 1.0\n",
    "covariance = 1.0 # change this to one.\n",
    "cov_matrix = np.array([\n",
    "    [sigma1, covariance],\n",
    "    [covariance, sigma2]\n",
    "])\n",
    "samples = pm.draw(pm.MvNormal.dist(mu=mu, cov=cov_matrix), 1000)\n",
    "\n",
    "x1 = samples[:, 0]\n",
    "x2 = samples[:, 1]\n",
    "\n",
    "fig, ax = plt.subplots(1, 1, figsize=(6, 6))\n",
    "ax.scatter(x1, x2, alpha=0.3)\n",
    "ax.set_xlim([-5, 5])\n",
    "ax.set_ylim([-5, 5])\n",
    "ax.set_xlabel(\"x1\");\n",
    "ax.set_ylabel(\"x2\");\n",
    "\n",
    "ax.add_patch(Rectangle((-5, -5), 6, 10, alpha=0.8, color=\"k\"));"
   ]
  },
  {
   "cell_type": "markdown",
   "id": "ae52c585-471b-4482-819d-6d361d033134",
   "metadata": {},
   "source": [
    "When the covariance is equal to the variance, you can see that the word \"usually\" turns into the word \"always\".  $x1 = x2$, or, if I tell you what the value of $x1$ is, you'll be able to tell me the value of $x2$. "
   ]
  },
  {
   "cell_type": "markdown",
   "id": "e5beafa8-1548-40b1-b94a-dcca0b5016f9",
   "metadata": {},
   "source": [
    "The best way to really understand this is to experiment.  Try choosing different values for the mean `mu`, the dimension 1 variance, the dimension 2 variance and the covariance, and then draw and plot the samples.  Here are a few important characteristics that you'll see:\n",
    "\n",
    "- Increasing the variances stretch the distribution, but only in that particular dimension\n",
    "- The variances on the diagonal must be positive\n",
    "- The covariance can be negative or positive\n",
    "- When you pick covariance values that are larger than the variances, you'll get a long stack trace and some message about the matrix not being positive semi-definite.  This is a mathematical condition that just means you're out of bounds with your choice of covariance.  When you get this error, decrease the value of the covariance that you just increased."
   ]
  },
  {
   "cell_type": "markdown",
   "id": "f740f5b0",
   "metadata": {},
   "source": [
    "## Covariance and Correlation (TODO)\n",
    "https://stats.stackexchange.com/a/413092\n",
    "\n",
    "* Correlation is normalized version of covariance\n",
    "* -1 means exact negative\n",
    "* 1 means exact positive\n",
    "* 0 means no relation\n",
    "* While thats good to know, doesnt really matter for GPs"
   ]
  },
  {
   "cell_type": "markdown",
   "id": "f28ae175-615b-4dca-8915-bddeb8766a2f",
   "metadata": {},
   "source": [
    "## Twins and height\n",
    "\n",
    "Let's say we run a study to see if twins have similar heights. Would we expect their heights to be correlated, moreso than two random siblings? We can use multivariate normals to understand this\n"
   ]
  },
  {
   "cell_type": "markdown",
   "id": "622d5a71",
   "metadata": {},
   "source": [
    "## Hour to hour sales\n",
    "Also, think about sales at a restaurant.  If there are a lot of customers during the lunch rush, from 12 noon to 1pm.  Are there likely to be a lot of customers in the next hour?  From 1 to 2pm?  The 12 to 1pm customer count is *at least* likely to be more similar to the 1 to 2pm count, than it is to the 3 to 4pm count."
   ]
  },
  {
   "cell_type": "markdown",
   "id": "0be957f1",
   "metadata": {},
   "source": [
    "## MVNs and correlation with linear regression\n",
    "* Should we include an example like this? Maybe thats the way to introduce correlation coefficient?"
   ]
  },
  {
   "cell_type": "markdown",
   "id": "ab852c80",
   "metadata": {},
   "source": [
    "## Section Recap\n",
    "* Multivariate normals are an important case of randomness\n",
    "* MVNs generate random vectors of size N\n",
    "* MVNs are defined by $\\mu$ and $\\sigma$, but also covariance matrix\n",
    "* Covariance, and correlation, specify degree of relation between pairwise variables or dimensions\n",
    "* In real life many things are related\n",
    "  * Sibling heights due genetics\n",
    "  * The number of customers in two adjacent time slots in restaurants\n",
    "  * Number of Intutive Bayes courses you take and your knowledge practical Bayesian usage\n"
   ]
  },
  {
   "cell_type": "markdown",
   "id": "d11574ba",
   "metadata": {},
   "source": [
    "Hopefully the last one is positively correlated!"
   ]
  },
  {
   "cell_type": "markdown",
   "id": "aede5ffd-69d9-4bb3-b87e-72c564d8bd5b",
   "metadata": {},
   "source": [
    "#  A different way to visualize multivariate normals\n",
    "Seeing in N Dimensions\n",
    "\n"
   ]
  },
  {
   "cell_type": "markdown",
   "id": "bf8c525d",
   "metadata": {},
   "source": [
    "## Higher Dimensions are weird"
   ]
  },
  {
   "cell_type": "markdown",
   "id": "7fa95e6f",
   "metadata": {},
   "source": [
    "**Insert a picture**"
   ]
  },
  {
   "cell_type": "markdown",
   "id": "e9fa3d0c",
   "metadata": {},
   "source": [
    "We can't rbeally plot multivariate normal distributions that have more than three dimensions.  Even then, it's really not easy to see what's going on, it just looks like a formless blob of dots.  Let's try a new plot.  Instead of each dimension getting it's own axis, let's plot each dimension down the axis, as if they were sequential points in time.  Here's what I mean, in three dimensions:  "
   ]
  },
  {
   "cell_type": "markdown",
   "id": "9f1893d8",
   "metadata": {},
   "source": [
    "## \"Unrolling\" a Multivariate Normal"
   ]
  },
  {
   "cell_type": "code",
   "execution_count": null,
   "id": "973171e5-9277-4e1c-87df-29e2193e5d65",
   "metadata": {},
   "outputs": [],
   "source": [
    "def mvn_unroller(covariance12, covariance13, covariance23):\n",
    "    sigma1 = 1.0\n",
    "    sigma2 = 1.0\n",
    "    sigma3 = 3.0\n",
    "    mu = [-1, 2, 2]\n",
    "\n",
    "\n",
    "    cov_matrix = np.array([\n",
    "        [sigma1, covariance12, covariance13],\n",
    "        [covariance12, sigma2, covariance23],\n",
    "        [covariance13, covariance23, sigma3],\n",
    "    ])\n",
    "    samples = pm.draw(pm.MvNormal.dist(mu=mu, cov=cov_matrix), 100)\n",
    "\n",
    "    dimension = np.arange(len(mu))\n",
    "\n",
    "    fig, ax = plt.subplots(1, 1, figsize=(10, 6));\n",
    "    ax.plot(dimension, samples.T, color=\"slateblue\", lw=0.5, alpha=0.25, marker=\"o\");\n",
    "    ax.set_xticks(dimension)\n",
    "    ax.set_xticklabels([\"Dimension \" + str(i) for i in dimension + 1]);\n",
    "    \n",
    "mvn_unroller(covariance12=.8, covariance13=0.1, covariance23=-0.9)\n",
    "\n"
   ]
  },
  {
   "cell_type": "markdown",
   "id": "b8cb1f6d-5244-474c-9a14-486d51f143eb",
   "metadata": {},
   "source": [
    "##### What does covariance look like in this context?\n",
    "\n",
    "- When you go from dimension 1 to dimension 2, consider the value of `covariance12`.  It's positive, and the lines basically never cross each other. As the value in dimension one increases, so does the value in dimension 2.\n",
    "- Look at dimension 2 to 3, and consider the value of `covariance23`.  It's negative, and basically every line crosses.  If it's relatively high in dimension 2, it goes down and is low in dimension 3, and visa versa. \n",
    "- What about `covariance13`?  It's here, but it's invisible in this plot.  It's doing something similar to `covariance12` and `covariance13`.  But, that's the thing about projecting a higher dimensional thing down into a lower dimensional space.  Things in higher dimensions do have real effects, but these effects are invisible from lower dimensional viewpoints.  The effects they produce are real, but the mechanism isn't apparent. \n",
    "\n",
    "Now the best way to intuitively understand, and that this is to change numbers and see what happens. That's why we created this function, so we can do this again, with different covariances while changing nothing else\n"
   ]
  },
  {
   "cell_type": "markdown",
   "id": "a6a9ada3",
   "metadata": {},
   "source": [
    "## Add another plot"
   ]
  },
  {
   "cell_type": "code",
   "execution_count": null,
   "id": "279d39fa",
   "metadata": {},
   "outputs": [],
   "source": [
    "mvn_unroller(covariance12=-1, covariance13=0, covariance23=-0.1)"
   ]
  },
  {
   "cell_type": "markdown",
   "id": "8650bd1e",
   "metadata": {},
   "source": [
    "## "
   ]
  },
  {
   "cell_type": "markdown",
   "id": "a11fcef1",
   "metadata": {},
   "source": [
    "## Try it out yourself"
   ]
  },
  {
   "cell_type": "markdown",
   "id": "789896bf",
   "metadata": {},
   "source": [
    "Again, I encourage you to play with the numbers here and see what happens.  Nothing is stopping us from making this type of plots in even higher dimensions, even hundreds or thousands of dimensions is possible.  We'll make plots of Gaussian proceses that look like this many many times in this course!"
   ]
  },
  {
   "cell_type": "markdown",
   "id": "10532b26-e42c-488f-88b3-87a1925f6097",
   "metadata": {},
   "source": [
    "## Multivariate normal wrap-up\n",
    "\n",
    "The amount of knowledge out there on normal and multivariate normals is pretty vast.  A quick skim of the wikipedia page will tell you as much.  For now though, we'll redirect ourselves back towards building a Gaussian process.  We will return to multivariate normals in a later lesson after we fit our first GPs.  Multivariate normals are important because of two other key concepts, **marginalization** and **conditioning**.  "
   ]
  },
  {
   "cell_type": "markdown",
   "id": "64ae7510",
   "metadata": {},
   "source": [
    "## Section Recap\n",
    "* Multivariate Normals can, and often do, extend past 3 dimensions\n",
    "* To visualize higher dimensions we can plot them in what's called a parallel plot\n",
    "  * Each dimension is on the x axis\n",
    "  * The y is the value of the random draws\n",
    "  * A continuous line connects the vector of points together\n",
    "  * These lines are not strictly parallel, making the plot name a bit unfortunate"
   ]
  },
  {
   "cell_type": "markdown",
   "id": "432be82a-7ec6-4999-8446-f1a54e9457cc",
   "metadata": {},
   "source": [
    "# Remember kernels?\n",
    "We did tell you it was one of the most important concepts"
   ]
  },
  {
   "cell_type": "markdown",
   "id": "e486a5fa",
   "metadata": {},
   "source": [
    "## The similarity between covariance and kernel "
   ]
  },
  {
   "cell_type": "markdown",
   "id": "e465aac6",
   "metadata": {},
   "source": [
    "In that last section we saw how covariance defined the similarity between two dimensions in random vectors drawn from multivariate normals.\n",
    "\n",
    "In the last lesson we talked about how kernels functions calculated the similarity between two points.\n",
    "\n",
    "*Isn't this kind of the same thing as the covariances bwetween elements in a multivariate normal?*  "
   ]
  },
  {
   "cell_type": "markdown",
   "id": "8fee08c5",
   "metadata": {},
   "source": [
    "## Generating Covariance "
   ]
  },
  {
   "cell_type": "code",
   "execution_count": null,
   "id": "62413024",
   "metadata": {},
   "outputs": [],
   "source": [
    "# Copy/paste our kernel function from the art class lesson\n",
    "def kernel(x, x_prime, lengthscale):\n",
    "    return np.exp( -0.5 * np.square(x - x_prime) / np.square(lengthscale))\n",
    "\n",
    "x = np.arange(10)\n",
    "\n",
    "# Calculate kernel/covariance matrix values for every possible pair of x values in the data\n",
    "K = np.zeros((10, 10))\n",
    "for i in range(10):\n",
    "    for j in range(10):\n",
    "        K[i, j] = kernel(x[i], x[j], lengthscale=2)"
   ]
  },
  {
   "cell_type": "markdown",
   "id": "eb5dd741",
   "metadata": {},
   "source": [
    "What if we used a kernel to generate the covariance matrix for a multivariate normal?  Remember the main takeaway from that lesson, kernel functions give the similarity of the points in $y$, depending on the points $x$ and $x'$. \n",
    "\n",
    "Let's try it out.  Let's take our same exponentiated quadratic kernel from Art class, use it to calculate a 10 by 10 covariance matrix, "
   ]
  },
  {
   "cell_type": "markdown",
   "id": "21dfdba5",
   "metadata": {},
   "source": [
    "## Drawing samples"
   ]
  },
  {
   "cell_type": "code",
   "execution_count": null,
   "id": "546013f3-dd74-4374-ab92-fd4322aba02e",
   "metadata": {},
   "outputs": [],
   "source": [
    "# Lets use a zero mean this time\n",
    "mu = np.zeros(10)\n",
    "    \n",
    "# Draw samples from this random vector\n",
    "random_vector = pm.MvNormal.dist(mu=mu, cov=K)\n",
    "samples = pm.draw(random_vector, draws=10_000)"
   ]
  },
  {
   "cell_type": "markdown",
   "id": "72528549-c1cc-427d-8ec3-fcd240320fbf",
   "metadata": {},
   "source": [
    "And use it to draw samples from a multivariate normal. This is another example of a random vector where there are relationships between the different X's.  And of course, these relationships are determined by the kernel matrix.  "
   ]
  },
  {
   "cell_type": "code",
   "execution_count": null,
   "id": "c172ddaf-79ae-41ed-a465-8217e1c65a0e",
   "metadata": {},
   "outputs": [],
   "source": [
    "x = np.arange(len(mu))\n",
    "fig, ax = plt.subplots(1,1,figsize=(10, 6))\n",
    "\n",
    "# plot 100 of the samples\n",
    "ix = np.random.randint(0, samples.shape[0], 100)\n",
    "ax.plot(x, samples[ix, :].T, color=\"slateblue\", lw=0.5, alpha=0.5, marker=\".\")\n",
    "\n",
    "ax.set_xticks(x);\n",
    "ax.set_xticklabels([\"Dim \" + str(i + 1) for i in range(len(x))]);"
   ]
  },
  {
   "cell_type": "markdown",
   "id": "850b0584-4ed8-44f9-97df-6828ff6f93c3",
   "metadata": {},
   "source": [
    "There's a very important quality to notice here, **smoothness**.  Just like in art class, the changes from point to point as we go from left to right are smooth.  Except now, we have multivariate normals in our toolbelt.  The combination of a kernel and a multivariate normal are the two primary ingredients in a Gaussian process."
   ]
  },
  {
   "cell_type": "markdown",
   "id": "fac1a84e",
   "metadata": {},
   "source": [
    "## Insert another plot"
   ]
  },
  {
   "cell_type": "markdown",
   "id": "f34d61c5",
   "metadata": {},
   "source": [
    "**TODO**: \n",
    "* Put a non kernel covariance and covariance MVN draw side by side\n",
    "* Highlight a random draw to show how \"less\" random the path looks when a kernel defines covariance\n",
    "\n",
    "* Exercise idea: Give people a kernel, ask them to take random draws, and tell us \"what the kernel is mapping to\" For instance a periodic kernel"
   ]
  },
  {
   "cell_type": "markdown",
   "id": "a3a12adc",
   "metadata": {},
   "source": [
    "## Section Recap\n",
    "* Kernels can be used to generate covariance matrices\n",
    "  * Just like in art class, the kernel defines how \"close\" two dimensions should be\n",
    "* Random vectors can be generated from covariance matrices and MVNs\n",
    "  * This was quite evident once we compared to the parallel plots from the last section"
   ]
  }
 ],
 "metadata": {
  "jupytext": {
   "formats": "ipynb,md"
  },
  "kernelspec": {
   "display_name": "Python 3 (ipykernel)",
   "language": "python",
   "name": "python3"
  },
  "language_info": {
   "codemirror_mode": {
    "name": "ipython",
    "version": 3
   },
   "file_extension": ".py",
   "mimetype": "text/x-python",
   "name": "python",
   "nbconvert_exporter": "python",
   "pygments_lexer": "ipython3",
   "version": "3.10.4"
  }
 },
 "nbformat": 4,
 "nbformat_minor": 5
}
