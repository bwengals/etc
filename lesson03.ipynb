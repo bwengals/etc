{
 "cells": [
  {
   "cell_type": "markdown",
   "id": "71baa922",
   "metadata": {
    "slideshow": {
     "slide_type": "slide"
    }
   },
   "source": [
    "# Lesson Introduction: GP From Fundamentals\n",
    "Building a GP one piece at a time"
   ]
  },
  {
   "cell_type": "code",
   "execution_count": 35,
   "id": "57111b23",
   "metadata": {
    "slideshow": {
     "slide_type": "skip"
    }
   },
   "outputs": [],
   "source": [
    "import arviz as az\n",
    "import matplotlib.pyplot as plt\n",
    "import numpy as np\n",
    "import pandas as pd\n",
    "import pymc as pm\n",
    "import pymc.sampling_jax\n",
    "import scipy.stats as stats\n",
    "\n",
    "plt.style.use('intuitivebayes.mplstyle')\n",
    "figsize = (14,7)  "
   ]
  },
  {
   "cell_type": "code",
   "execution_count": 39,
   "id": "366c7c6d",
   "metadata": {},
   "outputs": [],
   "source": [
    "# Start with simulated sine wave \n",
    "np.random.seed(1)\n",
    "x_axis = np.linspace(-4,4, 20)\n",
    "\n",
    "# Copy the x_vals a couple of times to get multiple points per x_val\n",
    "x_vals = np.tile(x_axis, 3)\n",
    "noise = stats.norm(0, .1).rvs(x_vals.shape)\n",
    "\n",
    "# Repeat the data a couple of times\n",
    "y = np.sin(x_vals) + noise"
   ]
  },
  {
   "cell_type": "markdown",
   "id": "9836b4f2",
   "metadata": {},
   "source": [
    "# Fitting and predicting a point"
   ]
  },
  {
   "cell_type": "code",
   "execution_count": 41,
   "id": "6cce826a",
   "metadata": {},
   "outputs": [
    {
     "data": {
      "image/png": "[encoded data removed]",
      "text/plain": [
       "<Figure size 1008x504 with 1 Axes>"
      ]
     },
     "metadata": {
      "needs_background": "light"
     },
     "output_type": "display_data"
    }
   ],
   "source": [
    "figsize = (14,7)  \n",
    "fig, ax = plt.subplots(figsize=figsize)\n",
    "ax.scatter(x_vals, y)\n",
    "\n",
    "index = 10\n",
    "ax.axvline(x[index], linestyle='--')\n",
    "ax.scatter(x[index] ,y[index]);"
   ]
  },
  {
   "cell_type": "markdown",
   "id": "5963e0f9",
   "metadata": {},
   "source": [
    "In this lesson we're going to make a prediction at a specific x value of interest, x prime as its typically called, just like we did in the last lesson\n",
    "\n",
    "But now were going to do two things differently"
   ]
  },
  {
   "cell_type": "markdown",
   "id": "dd4d7d62",
   "metadata": {},
   "source": [
    "## Our GP"
   ]
  },
  {
   "cell_type": "code",
   "execution_count": 42,
   "id": "a1d0a4cc",
   "metadata": {},
   "outputs": [
    {
     "name": "stderr",
     "output_type": "stream",
     "text": [
      "Auto-assigning NUTS sampler...\n",
      "Initializing NUTS using jitter+adapt_diag...\n",
      "Multiprocess sampling (2 chains in 4 jobs)\n",
      "NUTS: [f_rotated_, f_star]\n"
     ]
    },
    {
     "data": {
      "text/html": [
       "\n",
       "<style>\n",
       "    /* Turns off some styling */\n",
       "    progress {\n",
       "        /* gets rid of default border in Firefox and Opera. */\n",
       "        border: none;\n",
       "        /* Needs to be in here for Safari polyfill so background images work as expected. */\n",
       "        background-size: auto;\n",
       "    }\n",
       "    .progress-bar-interrupted, .progress-bar-interrupted::-webkit-progress-bar {\n",
       "        background: #F44336;\n",
       "    }\n",
       "</style>\n"
      ],
      "text/plain": [
       "<IPython.core.display.HTML object>"
      ]
     },
     "metadata": {},
     "output_type": "display_data"
    },
    {
     "data": {
      "text/html": [
       "\n",
       "    <div>\n",
       "      <progress value='4000' class='' max='4000' style='width:300px; height:20px; vertical-align: middle;'></progress>\n",
       "      100.00% [4000/4000 00:13<00:00 Sampling 2 chains, 0 divergences]\n",
       "    </div>\n",
       "    "
      ],
      "text/plain": [
       "<IPython.core.display.HTML object>"
      ]
     },
     "metadata": {},
     "output_type": "display_data"
    },
    {
     "name": "stderr",
     "output_type": "stream",
     "text": [
      "Sampling 2 chains for 1_000 tune and 1_000 draw iterations (2_000 + 2_000 draws total) took 14 seconds.\n"
     ]
    },
    {
     "data": {
      "text/html": [
       "\n",
       "<style>\n",
       "    /* Turns off some styling */\n",
       "    progress {\n",
       "        /* gets rid of default border in Firefox and Opera. */\n",
       "        border: none;\n",
       "        /* Needs to be in here for Safari polyfill so background images work as expected. */\n",
       "        background-size: auto;\n",
       "    }\n",
       "    .progress-bar-interrupted, .progress-bar-interrupted::-webkit-progress-bar {\n",
       "        background: #F44336;\n",
       "    }\n",
       "</style>\n"
      ],
      "text/plain": [
       "<IPython.core.display.HTML object>"
      ]
     },
     "metadata": {},
     "output_type": "display_data"
    },
    {
     "data": {
      "text/html": [
       "\n",
       "    <div>\n",
       "      <progress value='2000' class='' max='2000' style='width:300px; height:20px; vertical-align: middle;'></progress>\n",
       "      100.00% [2000/2000 00:00<00:00]\n",
       "    </div>\n",
       "    "
      ],
      "text/plain": [
       "<IPython.core.display.HTML object>"
      ]
     },
     "metadata": {},
     "output_type": "display_data"
    }
   ],
   "source": [
    "X = x[:,None]\n",
    "\n",
    "x_prediction = .2\n",
    "with pm.Model() as latent_gp_model:\n",
    "    # Specify the covariance function.\n",
    "    cov_func = pm.gp.cov.ExpQuad(1, ls=0.1)\n",
    "\n",
    "    # Specify the GP.  The default mean function is `Zero`.\n",
    "    gp = pm.gp.Latent(cov_func=cov_func)\n",
    "    \n",
    "    # Place a GP prior over the function f.\n",
    "    f = gp.prior(\"f\", X=X)\n",
    "    \n",
    "    # TODO: Can we change these car names to be more intuitive\n",
    "    f_star = gp.conditional(\"f_star\", np.array([[.2]]))\n",
    "    trace = pm.sample(1000, chains=2, return_inferencedata=True)\n",
    "    \n",
    "    pred_samples = pm.sample_posterior_predictive(trace.posterior, var_names=[\"f_star\"])"
   ]
  },
  {
   "cell_type": "markdown",
   "id": "7a26ed01",
   "metadata": {},
   "source": [
    "One, We're going to do it using a GP. And 2 were going to show you exactly how we're going to do it in great detail. Even more detail than you're seeing here"
   ]
  },
  {
   "cell_type": "code",
   "execution_count": 43,
   "id": "9b9fb3e9",
   "metadata": {},
   "outputs": [
    {
     "data": {
      "text/plain": [
       "<bound method Mapping.values of <xarray.Dataset>\n",
       "Dimensions:       (chain: 2, draw: 1000, f_star_dim_0: 1)\n",
       "Coordinates:\n",
       "  * chain         (chain) int64 0 1\n",
       "  * draw          (draw) int64 0 1 2 3 4 5 6 7 ... 993 994 995 996 997 998 999\n",
       "  * f_star_dim_0  (f_star_dim_0) int64 0\n",
       "Data variables:\n",
       "    f_star        (chain, draw, f_star_dim_0) float64 0.1943 0.09784 ... -0.5609\n",
       "Attributes:\n",
       "    created_at:                 2022-08-16T14:48:01.158303\n",
       "    arviz_version:              0.12.1\n",
       "    inference_library:          pymc\n",
       "    inference_library_version:  4.0.1>"
      ]
     },
     "execution_count": 43,
     "metadata": {},
     "output_type": "execute_result"
    }
   ],
   "source": [
    "pred_samples.posterior_predictive.values"
   ]
  },
  {
   "cell_type": "code",
   "execution_count": 44,
   "id": "3a118dfa",
   "metadata": {},
   "outputs": [],
   "source": [
    "vals = pred_samples.posterior_predictive.f_star.values.squeeze()"
   ]
  },
  {
   "cell_type": "markdown",
   "id": "26e3de23",
   "metadata": {},
   "source": [
    "Question for Bill: Posterior Predictive looks very wide. Am I accidentally sampling from the prior?"
   ]
  },
  {
   "cell_type": "code",
   "execution_count": 48,
   "id": "fe90a245",
   "metadata": {},
   "outputs": [
    {
     "data": {
      "image/png": "[encoded data removed]",
      "text/plain": [
       "<Figure size 1008x504 with 1 Axes>"
      ]
     },
     "metadata": {
      "needs_background": "light"
     },
     "output_type": "display_data"
    }
   ],
   "source": [
    "figsize = (14,7)  \n",
    "fig, ax = plt.subplots(figsize=figsize)\n",
    "\n",
    "ax.scatter(x_vals, y)\n",
    "ax.scatter(np.full(vals.shape, x_prediction), vals, alpha=.4);"
   ]
  },
  {
   "cell_type": "markdown",
   "id": "3d0df542",
   "metadata": {},
   "source": []
  },
  {
   "cell_type": "markdown",
   "id": "5be432ec",
   "metadata": {
    "slideshow": {
     "slide_type": "slide"
    }
   },
   "source": [
    "## Section 10: Multivariate normals\n",
    "* The distribution that underlies it all\n",
    "* How covariance"
   ]
  },
  {
   "cell_type": "markdown",
   "id": "253c9f67",
   "metadata": {
    "slideshow": {
     "slide_type": "slide"
    }
   },
   "source": [
    "## Section 20: ?"
   ]
  },
  {
   "cell_type": "markdown",
   "id": "8dfade7d",
   "metadata": {},
   "source": [
    "## Section 30: ?"
   ]
  },
  {
   "cell_type": "markdown",
   "id": "e7229b46",
   "metadata": {},
   "source": [
    "## Section 40: "
   ]
  },
  {
   "cell_type": "markdown",
   "id": "f339631f",
   "metadata": {},
   "source": [
    "# Section 10: Multivariate normals\n",
    "\n",
    "\n"
   ]
  },
  {
   "cell_type": "markdown",
   "id": "e0eae5ba",
   "metadata": {},
   "source": [
    "## Section Recap\n",
    "* Normal or Gaussian Distributions \n",
    "* Covariance is the relationship between the value on one dimension with another"
   ]
  },
  {
   "cell_type": "markdown",
   "id": "5c06e080",
   "metadata": {},
   "source": [
    "# Section 20: "
   ]
  },
  {
   "cell_type": "markdown",
   "id": "f1beabd7",
   "metadata": {},
   "source": [
    "## Section Recap"
   ]
  },
  {
   "cell_type": "markdown",
   "id": "fd05ce8d",
   "metadata": {},
   "source": [
    "# Section 30:"
   ]
  }
 ],
 "metadata": {
  "jupytext": {
   "formats": "md,ipynb"
  },
  "kernelspec": {
   "display_name": "Python 3 (ipykernel)",
   "language": "python",
   "name": "python3"
  },
  "language_info": {
   "codemirror_mode": {
    "name": "ipython",
    "version": 3
   },
   "file_extension": ".py",
   "mimetype": "text/x-python",
   "name": "python",
   "nbconvert_exporter": "python",
   "pygments_lexer": "ipython3",
   "version": "3.10.4"
  }
 },
 "nbformat": 4,
 "nbformat_minor": 5
}
