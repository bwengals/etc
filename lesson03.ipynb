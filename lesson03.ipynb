{
 "cells": [
  {
   "cell_type": "markdown",
   "id": "71baa922",
   "metadata": {
    "slideshow": {
     "slide_type": "slide"
    }
   },
   "source": [
    "# Lesson Introduction: GP From Fundamentals\n",
    "Building a GP one piece at a time"
   ]
  },
  {
   "cell_type": "markdown",
   "id": "176bbb41",
   "metadata": {},
   "source": [
    "## Current holdups/questions\n",
    "* `f_star = gp.conditional(\"f_star\", np.array([.2])[:, None])` is causing an exception I'm not sure why\n",
    "* In the second example below without pymc, if the data is generated from the kernel how is it observed?\n",
    "  * Other than that its really neat to see the GP manually built from a mean function and covariance"
   ]
  },
  {
   "cell_type": "code",
   "execution_count": 22,
   "id": "57111b23",
   "metadata": {
    "slideshow": {
     "slide_type": "skip"
    }
   },
   "outputs": [],
   "source": [
    "import arviz as az\n",
    "import matplotlib.pyplot as plt\n",
    "import numpy as np\n",
    "import pandas as pd\n",
    "import pymc as pm\n",
    "import pymc.sampling_jax\n",
    "import scipy.stats as stats\n",
    "\n",
    "plt.style.use('intuitivebayes.mplstyle')\n",
    "figsize = (14,7)  "
   ]
  },
  {
   "cell_type": "code",
   "execution_count": 23,
   "id": "366c7c6d",
   "metadata": {},
   "outputs": [],
   "source": [
    "# Start with simulated sine wave \n",
    "np.random.seed(1)\n",
    "x_axis = np.linspace(-4,4, 20)\n",
    "\n",
    "\n",
    "sigma = .1\n",
    "# Copy the x_vals a couple of times to get multiple points per x_val\n",
    "x_vals = np.tile(x_axis, 3)\n",
    "noise = stats.norm(0, sigma).rvs(x_vals.shape)\n",
    "\n",
    "# Repeat the data a couple of times\n",
    "y_obs = np.sin(x_vals) + noise"
   ]
  },
  {
   "cell_type": "markdown",
   "id": "9836b4f2",
   "metadata": {},
   "source": [
    "# Fitting and predicting a point"
   ]
  },
  {
   "cell_type": "code",
   "execution_count": 26,
   "id": "6cce826a",
   "metadata": {
    "scrolled": false
   },
   "outputs": [
    {
     "data": {
      "image/png": "[encoded data removed]",
      "text/plain": [
       "<Figure size 1008x504 with 1 Axes>"
      ]
     },
     "metadata": {
      "needs_background": "light"
     },
     "output_type": "display_data"
    }
   ],
   "source": [
    "figsize = (14,7)  \n",
    "fig, ax = plt.subplots(figsize=figsize)\n",
    "ax.scatter(x_vals, y_obs)\n",
    "\n",
    "index = 10\n",
    "ax.axvline(x_axis[index], linestyle='--')\n",
    "ax.scatter(x_axis[index], y_obs[index]);"
   ]
  },
  {
   "cell_type": "markdown",
   "id": "5963e0f9",
   "metadata": {},
   "source": [
    "In this lesson we're going to make a prediction at a specific x value of interest, x prime as its typically called, just like we did in the last lesson\n",
    "\n",
    "But now were going to do two things differently"
   ]
  },
  {
   "cell_type": "markdown",
   "id": "dd4d7d62",
   "metadata": {},
   "source": [
    "## Our GP"
   ]
  },
  {
   "cell_type": "code",
   "execution_count": 35,
   "id": "a1d0a4cc",
   "metadata": {},
   "outputs": [
    {
     "name": "stderr",
     "output_type": "stream",
     "text": [
      "ERROR (aesara.graph.opt): Optimization failure due to: constant_folding\n",
      "ERROR (aesara.graph.opt): node: Cholesky{lower=True, destructive=False, on_error='raise'}(TensorConstant{[[1.000000..0000e+00]]})\n",
      "ERROR (aesara.graph.opt): TRACEBACK:\n",
      "ERROR (aesara.graph.opt): Traceback (most recent call last):\n",
      "  File \"/home/canyon/miniconda3/envs/intuitive_bayes_gp/lib/python3.10/site-packages/aesara/graph/opt.py\", line 1861, in process_node\n",
      "    replacements = lopt.transform(fgraph, node)\n",
      "  File \"/home/canyon/miniconda3/envs/intuitive_bayes_gp/lib/python3.10/site-packages/aesara/graph/opt.py\", line 1066, in transform\n",
      "    return self.fn(fgraph, node)\n",
      "  File \"/home/canyon/miniconda3/envs/intuitive_bayes_gp/lib/python3.10/site-packages/aesara/tensor/basic_opt.py\", line 2868, in constant_folding\n",
      "    required = thunk()\n",
      "  File \"/home/canyon/miniconda3/envs/intuitive_bayes_gp/lib/python3.10/site-packages/aesara/graph/op.py\", line 524, in rval\n",
      "    r = p(n, [x[0] for x in i], o)\n",
      "  File \"/home/canyon/miniconda3/envs/intuitive_bayes_gp/lib/python3.10/site-packages/aesara/tensor/slinalg.py\", line 63, in perform\n",
      "    z[0] = scipy.linalg.cholesky(x, lower=self.lower).astype(x.dtype)\n",
      "  File \"/home/canyon/miniconda3/envs/intuitive_bayes_gp/lib/python3.10/site-packages/scipy/linalg/_decomp_cholesky.py\", line 88, in cholesky\n",
      "    c, lower = _cholesky(a, lower=lower, overwrite_a=overwrite_a, clean=True,\n",
      "  File \"/home/canyon/miniconda3/envs/intuitive_bayes_gp/lib/python3.10/site-packages/scipy/linalg/_decomp_cholesky.py\", line 37, in _cholesky\n",
      "    raise LinAlgError(\"%d-th leading minor of the array is not positive \"\n",
      "numpy.linalg.LinAlgError: 21-th leading minor of the array is not positive definite\n",
      "\n",
      "ERROR (aesara.graph.opt): Optimization failure due to: constant_folding\n",
      "ERROR (aesara.graph.opt): node: Cholesky{lower=True, destructive=False, on_error='raise'}(TensorConstant{[[1.000000..0000e+00]]})\n",
      "ERROR (aesara.graph.opt): TRACEBACK:\n",
      "ERROR (aesara.graph.opt): Traceback (most recent call last):\n",
      "  File \"/home/canyon/miniconda3/envs/intuitive_bayes_gp/lib/python3.10/site-packages/aesara/graph/opt.py\", line 1861, in process_node\n",
      "    replacements = lopt.transform(fgraph, node)\n",
      "  File \"/home/canyon/miniconda3/envs/intuitive_bayes_gp/lib/python3.10/site-packages/aesara/graph/opt.py\", line 1066, in transform\n",
      "    return self.fn(fgraph, node)\n",
      "  File \"/home/canyon/miniconda3/envs/intuitive_bayes_gp/lib/python3.10/site-packages/aesara/tensor/basic_opt.py\", line 2868, in constant_folding\n",
      "    required = thunk()\n",
      "  File \"/home/canyon/miniconda3/envs/intuitive_bayes_gp/lib/python3.10/site-packages/aesara/graph/op.py\", line 524, in rval\n",
      "    r = p(n, [x[0] for x in i], o)\n",
      "  File \"/home/canyon/miniconda3/envs/intuitive_bayes_gp/lib/python3.10/site-packages/aesara/tensor/slinalg.py\", line 63, in perform\n",
      "    z[0] = scipy.linalg.cholesky(x, lower=self.lower).astype(x.dtype)\n",
      "  File \"/home/canyon/miniconda3/envs/intuitive_bayes_gp/lib/python3.10/site-packages/scipy/linalg/_decomp_cholesky.py\", line 88, in cholesky\n",
      "    c, lower = _cholesky(a, lower=lower, overwrite_a=overwrite_a, clean=True,\n",
      "  File \"/home/canyon/miniconda3/envs/intuitive_bayes_gp/lib/python3.10/site-packages/scipy/linalg/_decomp_cholesky.py\", line 37, in _cholesky\n",
      "    raise LinAlgError(\"%d-th leading minor of the array is not positive \"\n",
      "numpy.linalg.LinAlgError: 21-th leading minor of the array is not positive definite\n",
      "\n",
      "ERROR (aesara.graph.opt): Optimization failure due to: constant_folding\n",
      "ERROR (aesara.graph.opt): node: Cholesky{lower=True, destructive=False, on_error='raise'}(TensorConstant{[[1.000000..0000e+00]]})\n",
      "ERROR (aesara.graph.opt): TRACEBACK:\n",
      "ERROR (aesara.graph.opt): Traceback (most recent call last):\n",
      "  File \"/home/canyon/miniconda3/envs/intuitive_bayes_gp/lib/python3.10/site-packages/aesara/graph/opt.py\", line 1861, in process_node\n",
      "    replacements = lopt.transform(fgraph, node)\n",
      "  File \"/home/canyon/miniconda3/envs/intuitive_bayes_gp/lib/python3.10/site-packages/aesara/graph/opt.py\", line 1066, in transform\n",
      "    return self.fn(fgraph, node)\n",
      "  File \"/home/canyon/miniconda3/envs/intuitive_bayes_gp/lib/python3.10/site-packages/aesara/tensor/basic_opt.py\", line 2868, in constant_folding\n",
      "    required = thunk()\n",
      "  File \"/home/canyon/miniconda3/envs/intuitive_bayes_gp/lib/python3.10/site-packages/aesara/graph/op.py\", line 524, in rval\n",
      "    r = p(n, [x[0] for x in i], o)\n",
      "  File \"/home/canyon/miniconda3/envs/intuitive_bayes_gp/lib/python3.10/site-packages/aesara/tensor/slinalg.py\", line 63, in perform\n",
      "    z[0] = scipy.linalg.cholesky(x, lower=self.lower).astype(x.dtype)\n",
      "  File \"/home/canyon/miniconda3/envs/intuitive_bayes_gp/lib/python3.10/site-packages/scipy/linalg/_decomp_cholesky.py\", line 88, in cholesky\n",
      "    c, lower = _cholesky(a, lower=lower, overwrite_a=overwrite_a, clean=True,\n",
      "  File \"/home/canyon/miniconda3/envs/intuitive_bayes_gp/lib/python3.10/site-packages/scipy/linalg/_decomp_cholesky.py\", line 37, in _cholesky\n",
      "    raise LinAlgError(\"%d-th leading minor of the array is not positive \"\n",
      "numpy.linalg.LinAlgError: 21-th leading minor of the array is not positive definite\n",
      "\n",
      "ERROR (aesara.graph.opt): Optimization failure due to: constant_folding\n",
      "ERROR (aesara.graph.opt): node: Cholesky{lower=True, destructive=False, on_error='raise'}(TensorConstant{[[1.000000..0000e+00]]})\n",
      "ERROR (aesara.graph.opt): TRACEBACK:\n",
      "ERROR (aesara.graph.opt): Traceback (most recent call last):\n",
      "  File \"/home/canyon/miniconda3/envs/intuitive_bayes_gp/lib/python3.10/site-packages/aesara/graph/opt.py\", line 1861, in process_node\n",
      "    replacements = lopt.transform(fgraph, node)\n",
      "  File \"/home/canyon/miniconda3/envs/intuitive_bayes_gp/lib/python3.10/site-packages/aesara/graph/opt.py\", line 1066, in transform\n",
      "    return self.fn(fgraph, node)\n",
      "  File \"/home/canyon/miniconda3/envs/intuitive_bayes_gp/lib/python3.10/site-packages/aesara/tensor/basic_opt.py\", line 2868, in constant_folding\n",
      "    required = thunk()\n",
      "  File \"/home/canyon/miniconda3/envs/intuitive_bayes_gp/lib/python3.10/site-packages/aesara/graph/op.py\", line 524, in rval\n",
      "    r = p(n, [x[0] for x in i], o)\n",
      "  File \"/home/canyon/miniconda3/envs/intuitive_bayes_gp/lib/python3.10/site-packages/aesara/tensor/slinalg.py\", line 63, in perform\n",
      "    z[0] = scipy.linalg.cholesky(x, lower=self.lower).astype(x.dtype)\n",
      "  File \"/home/canyon/miniconda3/envs/intuitive_bayes_gp/lib/python3.10/site-packages/scipy/linalg/_decomp_cholesky.py\", line 88, in cholesky\n",
      "    c, lower = _cholesky(a, lower=lower, overwrite_a=overwrite_a, clean=True,\n",
      "  File \"/home/canyon/miniconda3/envs/intuitive_bayes_gp/lib/python3.10/site-packages/scipy/linalg/_decomp_cholesky.py\", line 37, in _cholesky\n",
      "    raise LinAlgError(\"%d-th leading minor of the array is not positive \"\n",
      "numpy.linalg.LinAlgError: 21-th leading minor of the array is not positive definite\n",
      "\n",
      "ERROR (aesara.graph.opt): Optimization failure due to: constant_folding\n",
      "ERROR (aesara.graph.opt): node: Cholesky{lower=True, destructive=False, on_error='raise'}(TensorConstant{[[1.000000..0000e+00]]})\n",
      "ERROR (aesara.graph.opt): TRACEBACK:\n",
      "ERROR (aesara.graph.opt): Traceback (most recent call last):\n",
      "  File \"/home/canyon/miniconda3/envs/intuitive_bayes_gp/lib/python3.10/site-packages/aesara/graph/opt.py\", line 1861, in process_node\n",
      "    replacements = lopt.transform(fgraph, node)\n",
      "  File \"/home/canyon/miniconda3/envs/intuitive_bayes_gp/lib/python3.10/site-packages/aesara/graph/opt.py\", line 1066, in transform\n",
      "    return self.fn(fgraph, node)\n",
      "  File \"/home/canyon/miniconda3/envs/intuitive_bayes_gp/lib/python3.10/site-packages/aesara/tensor/basic_opt.py\", line 2868, in constant_folding\n",
      "    required = thunk()\n",
      "  File \"/home/canyon/miniconda3/envs/intuitive_bayes_gp/lib/python3.10/site-packages/aesara/graph/op.py\", line 524, in rval\n",
      "    r = p(n, [x[0] for x in i], o)\n",
      "  File \"/home/canyon/miniconda3/envs/intuitive_bayes_gp/lib/python3.10/site-packages/aesara/tensor/slinalg.py\", line 63, in perform\n",
      "    z[0] = scipy.linalg.cholesky(x, lower=self.lower).astype(x.dtype)\n",
      "  File \"/home/canyon/miniconda3/envs/intuitive_bayes_gp/lib/python3.10/site-packages/scipy/linalg/_decomp_cholesky.py\", line 88, in cholesky\n",
      "    c, lower = _cholesky(a, lower=lower, overwrite_a=overwrite_a, clean=True,\n",
      "  File \"/home/canyon/miniconda3/envs/intuitive_bayes_gp/lib/python3.10/site-packages/scipy/linalg/_decomp_cholesky.py\", line 37, in _cholesky\n",
      "    raise LinAlgError(\"%d-th leading minor of the array is not positive \"\n",
      "numpy.linalg.LinAlgError: 21-th leading minor of the array is not positive definite\n",
      "\n"
     ]
    },
    {
     "name": "stderr",
     "output_type": "stream",
     "text": [
      "ERROR (aesara.graph.opt): Optimization failure due to: constant_folding\n",
      "ERROR (aesara.graph.opt): node: Cholesky{lower=True, destructive=False, on_error='raise'}(TensorConstant{[[1.000000..0000e+00]]})\n",
      "ERROR (aesara.graph.opt): TRACEBACK:\n",
      "ERROR (aesara.graph.opt): Traceback (most recent call last):\n",
      "  File \"/home/canyon/miniconda3/envs/intuitive_bayes_gp/lib/python3.10/site-packages/aesara/graph/opt.py\", line 1861, in process_node\n",
      "    replacements = lopt.transform(fgraph, node)\n",
      "  File \"/home/canyon/miniconda3/envs/intuitive_bayes_gp/lib/python3.10/site-packages/aesara/graph/opt.py\", line 1066, in transform\n",
      "    return self.fn(fgraph, node)\n",
      "  File \"/home/canyon/miniconda3/envs/intuitive_bayes_gp/lib/python3.10/site-packages/aesara/tensor/basic_opt.py\", line 2868, in constant_folding\n",
      "    required = thunk()\n",
      "  File \"/home/canyon/miniconda3/envs/intuitive_bayes_gp/lib/python3.10/site-packages/aesara/graph/op.py\", line 524, in rval\n",
      "    r = p(n, [x[0] for x in i], o)\n",
      "  File \"/home/canyon/miniconda3/envs/intuitive_bayes_gp/lib/python3.10/site-packages/aesara/tensor/slinalg.py\", line 63, in perform\n",
      "    z[0] = scipy.linalg.cholesky(x, lower=self.lower).astype(x.dtype)\n",
      "  File \"/home/canyon/miniconda3/envs/intuitive_bayes_gp/lib/python3.10/site-packages/scipy/linalg/_decomp_cholesky.py\", line 88, in cholesky\n",
      "    c, lower = _cholesky(a, lower=lower, overwrite_a=overwrite_a, clean=True,\n",
      "  File \"/home/canyon/miniconda3/envs/intuitive_bayes_gp/lib/python3.10/site-packages/scipy/linalg/_decomp_cholesky.py\", line 37, in _cholesky\n",
      "    raise LinAlgError(\"%d-th leading minor of the array is not positive \"\n",
      "numpy.linalg.LinAlgError: 21-th leading minor of the array is not positive definite\n",
      "\n",
      "ERROR (aesara.graph.opt): Optimization failure due to: constant_folding\n",
      "ERROR (aesara.graph.opt): node: Cholesky{lower=True, destructive=False, on_error='raise'}(TensorConstant{[[1.000000..0000e+00]]})\n",
      "ERROR (aesara.graph.opt): TRACEBACK:\n",
      "ERROR (aesara.graph.opt): Traceback (most recent call last):\n",
      "  File \"/home/canyon/miniconda3/envs/intuitive_bayes_gp/lib/python3.10/site-packages/aesara/graph/opt.py\", line 1861, in process_node\n",
      "    replacements = lopt.transform(fgraph, node)\n",
      "  File \"/home/canyon/miniconda3/envs/intuitive_bayes_gp/lib/python3.10/site-packages/aesara/graph/opt.py\", line 1066, in transform\n",
      "    return self.fn(fgraph, node)\n",
      "  File \"/home/canyon/miniconda3/envs/intuitive_bayes_gp/lib/python3.10/site-packages/aesara/tensor/basic_opt.py\", line 2868, in constant_folding\n",
      "    required = thunk()\n",
      "  File \"/home/canyon/miniconda3/envs/intuitive_bayes_gp/lib/python3.10/site-packages/aesara/graph/op.py\", line 524, in rval\n",
      "    r = p(n, [x[0] for x in i], o)\n",
      "  File \"/home/canyon/miniconda3/envs/intuitive_bayes_gp/lib/python3.10/site-packages/aesara/tensor/slinalg.py\", line 63, in perform\n",
      "    z[0] = scipy.linalg.cholesky(x, lower=self.lower).astype(x.dtype)\n",
      "  File \"/home/canyon/miniconda3/envs/intuitive_bayes_gp/lib/python3.10/site-packages/scipy/linalg/_decomp_cholesky.py\", line 88, in cholesky\n",
      "    c, lower = _cholesky(a, lower=lower, overwrite_a=overwrite_a, clean=True,\n",
      "  File \"/home/canyon/miniconda3/envs/intuitive_bayes_gp/lib/python3.10/site-packages/scipy/linalg/_decomp_cholesky.py\", line 37, in _cholesky\n",
      "    raise LinAlgError(\"%d-th leading minor of the array is not positive \"\n",
      "numpy.linalg.LinAlgError: 21-th leading minor of the array is not positive definite\n",
      "\n",
      "ERROR (aesara.graph.opt): Optimization failure due to: constant_folding\n",
      "ERROR (aesara.graph.opt): node: Cholesky{lower=True, destructive=False, on_error='raise'}(TensorConstant{[[1.000000..0000e+00]]})\n",
      "ERROR (aesara.graph.opt): TRACEBACK:\n",
      "ERROR (aesara.graph.opt): Traceback (most recent call last):\n",
      "  File \"/home/canyon/miniconda3/envs/intuitive_bayes_gp/lib/python3.10/site-packages/aesara/graph/opt.py\", line 1861, in process_node\n",
      "    replacements = lopt.transform(fgraph, node)\n",
      "  File \"/home/canyon/miniconda3/envs/intuitive_bayes_gp/lib/python3.10/site-packages/aesara/graph/opt.py\", line 1066, in transform\n",
      "    return self.fn(fgraph, node)\n",
      "  File \"/home/canyon/miniconda3/envs/intuitive_bayes_gp/lib/python3.10/site-packages/aesara/tensor/basic_opt.py\", line 2868, in constant_folding\n",
      "    required = thunk()\n",
      "  File \"/home/canyon/miniconda3/envs/intuitive_bayes_gp/lib/python3.10/site-packages/aesara/graph/op.py\", line 524, in rval\n",
      "    r = p(n, [x[0] for x in i], o)\n",
      "  File \"/home/canyon/miniconda3/envs/intuitive_bayes_gp/lib/python3.10/site-packages/aesara/tensor/slinalg.py\", line 63, in perform\n",
      "    z[0] = scipy.linalg.cholesky(x, lower=self.lower).astype(x.dtype)\n",
      "  File \"/home/canyon/miniconda3/envs/intuitive_bayes_gp/lib/python3.10/site-packages/scipy/linalg/_decomp_cholesky.py\", line 88, in cholesky\n",
      "    c, lower = _cholesky(a, lower=lower, overwrite_a=overwrite_a, clean=True,\n",
      "  File \"/home/canyon/miniconda3/envs/intuitive_bayes_gp/lib/python3.10/site-packages/scipy/linalg/_decomp_cholesky.py\", line 37, in _cholesky\n",
      "    raise LinAlgError(\"%d-th leading minor of the array is not positive \"\n",
      "numpy.linalg.LinAlgError: 21-th leading minor of the array is not positive definite\n",
      "\n",
      "ERROR (aesara.graph.opt): Optimization failure due to: constant_folding\n",
      "ERROR (aesara.graph.opt): node: Cholesky{lower=True, destructive=False, on_error='raise'}(TensorConstant{[[1.000000..0000e+00]]})\n",
      "ERROR (aesara.graph.opt): TRACEBACK:\n",
      "ERROR (aesara.graph.opt): Traceback (most recent call last):\n",
      "  File \"/home/canyon/miniconda3/envs/intuitive_bayes_gp/lib/python3.10/site-packages/aesara/graph/opt.py\", line 1861, in process_node\n",
      "    replacements = lopt.transform(fgraph, node)\n",
      "  File \"/home/canyon/miniconda3/envs/intuitive_bayes_gp/lib/python3.10/site-packages/aesara/graph/opt.py\", line 1066, in transform\n",
      "    return self.fn(fgraph, node)\n",
      "  File \"/home/canyon/miniconda3/envs/intuitive_bayes_gp/lib/python3.10/site-packages/aesara/tensor/basic_opt.py\", line 2868, in constant_folding\n",
      "    required = thunk()\n",
      "  File \"/home/canyon/miniconda3/envs/intuitive_bayes_gp/lib/python3.10/site-packages/aesara/graph/op.py\", line 524, in rval\n",
      "    r = p(n, [x[0] for x in i], o)\n",
      "  File \"/home/canyon/miniconda3/envs/intuitive_bayes_gp/lib/python3.10/site-packages/aesara/tensor/slinalg.py\", line 63, in perform\n",
      "    z[0] = scipy.linalg.cholesky(x, lower=self.lower).astype(x.dtype)\n",
      "  File \"/home/canyon/miniconda3/envs/intuitive_bayes_gp/lib/python3.10/site-packages/scipy/linalg/_decomp_cholesky.py\", line 88, in cholesky\n",
      "    c, lower = _cholesky(a, lower=lower, overwrite_a=overwrite_a, clean=True,\n",
      "  File \"/home/canyon/miniconda3/envs/intuitive_bayes_gp/lib/python3.10/site-packages/scipy/linalg/_decomp_cholesky.py\", line 37, in _cholesky\n",
      "    raise LinAlgError(\"%d-th leading minor of the array is not positive \"\n",
      "numpy.linalg.LinAlgError: 21-th leading minor of the array is not positive definite\n",
      "\n",
      "ERROR (aesara.graph.opt): Optimization failure due to: constant_folding\n",
      "ERROR (aesara.graph.opt): node: Cholesky{lower=True, destructive=False, on_error='raise'}(TensorConstant{[[1.000000..0000e+00]]})\n",
      "ERROR (aesara.graph.opt): TRACEBACK:\n",
      "ERROR (aesara.graph.opt): Traceback (most recent call last):\n",
      "  File \"/home/canyon/miniconda3/envs/intuitive_bayes_gp/lib/python3.10/site-packages/aesara/graph/opt.py\", line 1861, in process_node\n",
      "    replacements = lopt.transform(fgraph, node)\n",
      "  File \"/home/canyon/miniconda3/envs/intuitive_bayes_gp/lib/python3.10/site-packages/aesara/graph/opt.py\", line 1066, in transform\n",
      "    return self.fn(fgraph, node)\n",
      "  File \"/home/canyon/miniconda3/envs/intuitive_bayes_gp/lib/python3.10/site-packages/aesara/tensor/basic_opt.py\", line 2868, in constant_folding\n",
      "    required = thunk()\n",
      "  File \"/home/canyon/miniconda3/envs/intuitive_bayes_gp/lib/python3.10/site-packages/aesara/graph/op.py\", line 524, in rval\n",
      "    r = p(n, [x[0] for x in i], o)\n",
      "  File \"/home/canyon/miniconda3/envs/intuitive_bayes_gp/lib/python3.10/site-packages/aesara/tensor/slinalg.py\", line 63, in perform\n",
      "    z[0] = scipy.linalg.cholesky(x, lower=self.lower).astype(x.dtype)\n",
      "  File \"/home/canyon/miniconda3/envs/intuitive_bayes_gp/lib/python3.10/site-packages/scipy/linalg/_decomp_cholesky.py\", line 88, in cholesky\n",
      "    c, lower = _cholesky(a, lower=lower, overwrite_a=overwrite_a, clean=True,\n",
      "  File \"/home/canyon/miniconda3/envs/intuitive_bayes_gp/lib/python3.10/site-packages/scipy/linalg/_decomp_cholesky.py\", line 37, in _cholesky\n",
      "    raise LinAlgError(\"%d-th leading minor of the array is not positive \"\n",
      "numpy.linalg.LinAlgError: 21-th leading minor of the array is not positive definite\n",
      "\n"
     ]
    },
    {
     "name": "stderr",
     "output_type": "stream",
     "text": [
      "ERROR (aesara.graph.opt): Optimization failure due to: constant_folding\n",
      "ERROR (aesara.graph.opt): node: Cholesky{lower=True, destructive=False, on_error='raise'}(TensorConstant{[[1.000000..0000e+00]]})\n",
      "ERROR (aesara.graph.opt): TRACEBACK:\n",
      "ERROR (aesara.graph.opt): Traceback (most recent call last):\n",
      "  File \"/home/canyon/miniconda3/envs/intuitive_bayes_gp/lib/python3.10/site-packages/aesara/graph/opt.py\", line 1861, in process_node\n",
      "    replacements = lopt.transform(fgraph, node)\n",
      "  File \"/home/canyon/miniconda3/envs/intuitive_bayes_gp/lib/python3.10/site-packages/aesara/graph/opt.py\", line 1066, in transform\n",
      "    return self.fn(fgraph, node)\n",
      "  File \"/home/canyon/miniconda3/envs/intuitive_bayes_gp/lib/python3.10/site-packages/aesara/tensor/basic_opt.py\", line 2868, in constant_folding\n",
      "    required = thunk()\n",
      "  File \"/home/canyon/miniconda3/envs/intuitive_bayes_gp/lib/python3.10/site-packages/aesara/graph/op.py\", line 524, in rval\n",
      "    r = p(n, [x[0] for x in i], o)\n",
      "  File \"/home/canyon/miniconda3/envs/intuitive_bayes_gp/lib/python3.10/site-packages/aesara/tensor/slinalg.py\", line 63, in perform\n",
      "    z[0] = scipy.linalg.cholesky(x, lower=self.lower).astype(x.dtype)\n",
      "  File \"/home/canyon/miniconda3/envs/intuitive_bayes_gp/lib/python3.10/site-packages/scipy/linalg/_decomp_cholesky.py\", line 88, in cholesky\n",
      "    c, lower = _cholesky(a, lower=lower, overwrite_a=overwrite_a, clean=True,\n",
      "  File \"/home/canyon/miniconda3/envs/intuitive_bayes_gp/lib/python3.10/site-packages/scipy/linalg/_decomp_cholesky.py\", line 37, in _cholesky\n",
      "    raise LinAlgError(\"%d-th leading minor of the array is not positive \"\n",
      "numpy.linalg.LinAlgError: 21-th leading minor of the array is not positive definite\n",
      "\n",
      "ERROR (aesara.graph.opt): Optimization failure due to: constant_folding\n",
      "ERROR (aesara.graph.opt): node: Cholesky{lower=True, destructive=False, on_error='raise'}(TensorConstant{[[1.000000..0000e+00]]})\n",
      "ERROR (aesara.graph.opt): TRACEBACK:\n",
      "ERROR (aesara.graph.opt): Traceback (most recent call last):\n",
      "  File \"/home/canyon/miniconda3/envs/intuitive_bayes_gp/lib/python3.10/site-packages/aesara/graph/opt.py\", line 1861, in process_node\n",
      "    replacements = lopt.transform(fgraph, node)\n",
      "  File \"/home/canyon/miniconda3/envs/intuitive_bayes_gp/lib/python3.10/site-packages/aesara/graph/opt.py\", line 1066, in transform\n",
      "    return self.fn(fgraph, node)\n",
      "  File \"/home/canyon/miniconda3/envs/intuitive_bayes_gp/lib/python3.10/site-packages/aesara/tensor/basic_opt.py\", line 2868, in constant_folding\n",
      "    required = thunk()\n",
      "  File \"/home/canyon/miniconda3/envs/intuitive_bayes_gp/lib/python3.10/site-packages/aesara/graph/op.py\", line 524, in rval\n",
      "    r = p(n, [x[0] for x in i], o)\n",
      "  File \"/home/canyon/miniconda3/envs/intuitive_bayes_gp/lib/python3.10/site-packages/aesara/tensor/slinalg.py\", line 63, in perform\n",
      "    z[0] = scipy.linalg.cholesky(x, lower=self.lower).astype(x.dtype)\n",
      "  File \"/home/canyon/miniconda3/envs/intuitive_bayes_gp/lib/python3.10/site-packages/scipy/linalg/_decomp_cholesky.py\", line 88, in cholesky\n",
      "    c, lower = _cholesky(a, lower=lower, overwrite_a=overwrite_a, clean=True,\n",
      "  File \"/home/canyon/miniconda3/envs/intuitive_bayes_gp/lib/python3.10/site-packages/scipy/linalg/_decomp_cholesky.py\", line 37, in _cholesky\n",
      "    raise LinAlgError(\"%d-th leading minor of the array is not positive \"\n",
      "numpy.linalg.LinAlgError: 21-th leading minor of the array is not positive definite\n",
      "\n",
      "ERROR (aesara.graph.opt): Optimization failure due to: constant_folding\n",
      "ERROR (aesara.graph.opt): node: Cholesky{lower=True, destructive=False, on_error='raise'}(TensorConstant{[[1.000000..0000e+00]]})\n",
      "ERROR (aesara.graph.opt): TRACEBACK:\n",
      "ERROR (aesara.graph.opt): Traceback (most recent call last):\n",
      "  File \"/home/canyon/miniconda3/envs/intuitive_bayes_gp/lib/python3.10/site-packages/aesara/graph/opt.py\", line 1861, in process_node\n",
      "    replacements = lopt.transform(fgraph, node)\n",
      "  File \"/home/canyon/miniconda3/envs/intuitive_bayes_gp/lib/python3.10/site-packages/aesara/graph/opt.py\", line 1066, in transform\n",
      "    return self.fn(fgraph, node)\n",
      "  File \"/home/canyon/miniconda3/envs/intuitive_bayes_gp/lib/python3.10/site-packages/aesara/tensor/basic_opt.py\", line 2868, in constant_folding\n",
      "    required = thunk()\n",
      "  File \"/home/canyon/miniconda3/envs/intuitive_bayes_gp/lib/python3.10/site-packages/aesara/graph/op.py\", line 524, in rval\n",
      "    r = p(n, [x[0] for x in i], o)\n",
      "  File \"/home/canyon/miniconda3/envs/intuitive_bayes_gp/lib/python3.10/site-packages/aesara/tensor/slinalg.py\", line 63, in perform\n",
      "    z[0] = scipy.linalg.cholesky(x, lower=self.lower).astype(x.dtype)\n",
      "  File \"/home/canyon/miniconda3/envs/intuitive_bayes_gp/lib/python3.10/site-packages/scipy/linalg/_decomp_cholesky.py\", line 88, in cholesky\n",
      "    c, lower = _cholesky(a, lower=lower, overwrite_a=overwrite_a, clean=True,\n",
      "  File \"/home/canyon/miniconda3/envs/intuitive_bayes_gp/lib/python3.10/site-packages/scipy/linalg/_decomp_cholesky.py\", line 37, in _cholesky\n",
      "    raise LinAlgError(\"%d-th leading minor of the array is not positive \"\n",
      "numpy.linalg.LinAlgError: 21-th leading minor of the array is not positive definite\n",
      "\n",
      "ERROR (aesara.graph.opt): Optimization failure due to: constant_folding\n",
      "ERROR (aesara.graph.opt): node: Cholesky{lower=True, destructive=False, on_error='raise'}(TensorConstant{[[1.000000..0000e+00]]})\n",
      "ERROR (aesara.graph.opt): TRACEBACK:\n",
      "ERROR (aesara.graph.opt): Traceback (most recent call last):\n",
      "  File \"/home/canyon/miniconda3/envs/intuitive_bayes_gp/lib/python3.10/site-packages/aesara/graph/opt.py\", line 1861, in process_node\n",
      "    replacements = lopt.transform(fgraph, node)\n",
      "  File \"/home/canyon/miniconda3/envs/intuitive_bayes_gp/lib/python3.10/site-packages/aesara/graph/opt.py\", line 1066, in transform\n",
      "    return self.fn(fgraph, node)\n",
      "  File \"/home/canyon/miniconda3/envs/intuitive_bayes_gp/lib/python3.10/site-packages/aesara/tensor/basic_opt.py\", line 2868, in constant_folding\n",
      "    required = thunk()\n",
      "  File \"/home/canyon/miniconda3/envs/intuitive_bayes_gp/lib/python3.10/site-packages/aesara/graph/op.py\", line 524, in rval\n",
      "    r = p(n, [x[0] for x in i], o)\n",
      "  File \"/home/canyon/miniconda3/envs/intuitive_bayes_gp/lib/python3.10/site-packages/aesara/tensor/slinalg.py\", line 63, in perform\n",
      "    z[0] = scipy.linalg.cholesky(x, lower=self.lower).astype(x.dtype)\n",
      "  File \"/home/canyon/miniconda3/envs/intuitive_bayes_gp/lib/python3.10/site-packages/scipy/linalg/_decomp_cholesky.py\", line 88, in cholesky\n",
      "    c, lower = _cholesky(a, lower=lower, overwrite_a=overwrite_a, clean=True,\n",
      "  File \"/home/canyon/miniconda3/envs/intuitive_bayes_gp/lib/python3.10/site-packages/scipy/linalg/_decomp_cholesky.py\", line 37, in _cholesky\n",
      "    raise LinAlgError(\"%d-th leading minor of the array is not positive \"\n",
      "numpy.linalg.LinAlgError: 21-th leading minor of the array is not positive definite\n",
      "\n",
      "ERROR (aesara.graph.opt): Optimization failure due to: constant_folding\n",
      "ERROR (aesara.graph.opt): node: Cholesky{lower=True, destructive=False, on_error='raise'}(TensorConstant{[[1.000000..0000e+00]]})\n",
      "ERROR (aesara.graph.opt): TRACEBACK:\n",
      "ERROR (aesara.graph.opt): Traceback (most recent call last):\n",
      "  File \"/home/canyon/miniconda3/envs/intuitive_bayes_gp/lib/python3.10/site-packages/aesara/graph/opt.py\", line 1861, in process_node\n",
      "    replacements = lopt.transform(fgraph, node)\n",
      "  File \"/home/canyon/miniconda3/envs/intuitive_bayes_gp/lib/python3.10/site-packages/aesara/graph/opt.py\", line 1066, in transform\n",
      "    return self.fn(fgraph, node)\n",
      "  File \"/home/canyon/miniconda3/envs/intuitive_bayes_gp/lib/python3.10/site-packages/aesara/tensor/basic_opt.py\", line 2868, in constant_folding\n",
      "    required = thunk()\n",
      "  File \"/home/canyon/miniconda3/envs/intuitive_bayes_gp/lib/python3.10/site-packages/aesara/graph/op.py\", line 524, in rval\n",
      "    r = p(n, [x[0] for x in i], o)\n",
      "  File \"/home/canyon/miniconda3/envs/intuitive_bayes_gp/lib/python3.10/site-packages/aesara/tensor/slinalg.py\", line 63, in perform\n",
      "    z[0] = scipy.linalg.cholesky(x, lower=self.lower).astype(x.dtype)\n",
      "  File \"/home/canyon/miniconda3/envs/intuitive_bayes_gp/lib/python3.10/site-packages/scipy/linalg/_decomp_cholesky.py\", line 88, in cholesky\n",
      "    c, lower = _cholesky(a, lower=lower, overwrite_a=overwrite_a, clean=True,\n",
      "  File \"/home/canyon/miniconda3/envs/intuitive_bayes_gp/lib/python3.10/site-packages/scipy/linalg/_decomp_cholesky.py\", line 37, in _cholesky\n",
      "    raise LinAlgError(\"%d-th leading minor of the array is not positive \"\n",
      "numpy.linalg.LinAlgError: 21-th leading minor of the array is not positive definite\n",
      "\n"
     ]
    },
    {
     "ename": "LinAlgError",
     "evalue": "21-th leading minor of the array is not positive definite\nApply node that caused the error: Cholesky{lower=True, destructive=False, on_error='raise'}(TensorConstant{[[1.000000..0000e+00]]})\nToposort index: 1\nInputs types: [TensorType(float64, (60, 60))]\nInputs shapes: [(60, 60)]\nInputs strides: [(480, 8)]\nInputs values: ['not shown']\nOutputs clients: [[SolveTriangular{lower=True, trans=0, unit_diagonal=False, check_finite=True}(Cholesky{lower=True, destructive=False, on_error='raise'}.0, TensorConstant{[[0.000000..531e-314]]}), SolveTriangular{lower=True, trans=0, unit_diagonal=False, check_finite=True}(Cholesky{lower=True, destructive=False, on_error='raise'}.0, f{(60,) of 0.0})]]\n\nBacktrace when the node is created (use Aesara flag traceback__limit=N to make it longer):\n  File \"/home/canyon/miniconda3/envs/intuitive_bayes_gp/lib/python3.10/site-packages/IPython/core/interactiveshell.py\", line 2936, in _run_cell\n    return runner(coro)\n  File \"/home/canyon/miniconda3/envs/intuitive_bayes_gp/lib/python3.10/site-packages/IPython/core/async_helpers.py\", line 129, in _pseudo_sync_runner\n    coro.send(None)\n  File \"/home/canyon/miniconda3/envs/intuitive_bayes_gp/lib/python3.10/site-packages/IPython/core/interactiveshell.py\", line 3135, in run_cell_async\n    has_raised = await self.run_ast_nodes(code_ast.body, cell_name,\n  File \"/home/canyon/miniconda3/envs/intuitive_bayes_gp/lib/python3.10/site-packages/IPython/core/interactiveshell.py\", line 3338, in run_ast_nodes\n    if await self.run_code(code, result, async_=asy):\n  File \"/home/canyon/miniconda3/envs/intuitive_bayes_gp/lib/python3.10/site-packages/IPython/core/interactiveshell.py\", line 3398, in run_code\n    exec(code_obj, self.user_global_ns, self.user_ns)\n  File \"/tmp/ipykernel_9285/1074937131.py\", line 15, in <cell line: 4>\n    f_star = gp.conditional(\"f_star\", np.array([.2])[:, None])\n  File \"/home/canyon/miniconda3/envs/intuitive_bayes_gp/lib/python3.10/site-packages/pymc/gp/gp.py\", line 233, in conditional\n    mu, cov = self._build_conditional(Xnew, *givens, jitter)\n  File \"/home/canyon/miniconda3/envs/intuitive_bayes_gp/lib/python3.10/site-packages/pymc/gp/gp.py\", line 191, in _build_conditional\n    L = cholesky(stabilize(Kxx, jitter))\n\nHINT: Use the Aesara flag `exception_verbosity=high` for a debug print-out and storage map footprint of this Apply node.",
     "output_type": "error",
     "traceback": [
      "\u001b[0;31m---------------------------------------------------------------------------\u001b[0m",
      "\u001b[0;31mLinAlgError\u001b[0m                               Traceback (most recent call last)",
      "File \u001b[0;32m~/miniconda3/envs/intuitive_bayes_gp/lib/python3.10/site-packages/aesara/link/vm.py:413\u001b[0m, in \u001b[0;36mLoop.__call__\u001b[0;34m(self)\u001b[0m\n\u001b[1;32m    410\u001b[0m \u001b[38;5;28;01mfor\u001b[39;00m thunk, node, old_storage \u001b[38;5;129;01min\u001b[39;00m zip_longest(\n\u001b[1;32m    411\u001b[0m     \u001b[38;5;28mself\u001b[39m\u001b[38;5;241m.\u001b[39mthunks, \u001b[38;5;28mself\u001b[39m\u001b[38;5;241m.\u001b[39mnodes, \u001b[38;5;28mself\u001b[39m\u001b[38;5;241m.\u001b[39mpost_thunk_clear, fillvalue\u001b[38;5;241m=\u001b[39m()\n\u001b[1;32m    412\u001b[0m ):\n\u001b[0;32m--> 413\u001b[0m     \u001b[43mthunk\u001b[49m\u001b[43m(\u001b[49m\u001b[43m)\u001b[49m\n\u001b[1;32m    414\u001b[0m     \u001b[38;5;28;01mfor\u001b[39;00m old_s \u001b[38;5;129;01min\u001b[39;00m old_storage:\n",
      "File \u001b[0;32m~/miniconda3/envs/intuitive_bayes_gp/lib/python3.10/site-packages/aesara/graph/op.py:524\u001b[0m, in \u001b[0;36mOp.make_py_thunk.<locals>.rval\u001b[0;34m(p, i, o, n, params)\u001b[0m\n\u001b[1;32m    520\u001b[0m \u001b[38;5;129m@is_thunk_type\u001b[39m\n\u001b[1;32m    521\u001b[0m \u001b[38;5;28;01mdef\u001b[39;00m \u001b[38;5;21mrval\u001b[39m(\n\u001b[1;32m    522\u001b[0m     p\u001b[38;5;241m=\u001b[39mp, i\u001b[38;5;241m=\u001b[39mnode_input_storage, o\u001b[38;5;241m=\u001b[39mnode_output_storage, n\u001b[38;5;241m=\u001b[39mnode, params\u001b[38;5;241m=\u001b[39m\u001b[38;5;28;01mNone\u001b[39;00m\n\u001b[1;32m    523\u001b[0m ):\n\u001b[0;32m--> 524\u001b[0m     r \u001b[38;5;241m=\u001b[39m \u001b[43mp\u001b[49m\u001b[43m(\u001b[49m\u001b[43mn\u001b[49m\u001b[43m,\u001b[49m\u001b[43m \u001b[49m\u001b[43m[\u001b[49m\u001b[43mx\u001b[49m\u001b[43m[\u001b[49m\u001b[38;5;241;43m0\u001b[39;49m\u001b[43m]\u001b[49m\u001b[43m \u001b[49m\u001b[38;5;28;43;01mfor\u001b[39;49;00m\u001b[43m \u001b[49m\u001b[43mx\u001b[49m\u001b[43m \u001b[49m\u001b[38;5;129;43;01min\u001b[39;49;00m\u001b[43m \u001b[49m\u001b[43mi\u001b[49m\u001b[43m]\u001b[49m\u001b[43m,\u001b[49m\u001b[43m \u001b[49m\u001b[43mo\u001b[49m\u001b[43m)\u001b[49m\n\u001b[1;32m    525\u001b[0m     \u001b[38;5;28;01mfor\u001b[39;00m o \u001b[38;5;129;01min\u001b[39;00m node\u001b[38;5;241m.\u001b[39moutputs:\n",
      "File \u001b[0;32m~/miniconda3/envs/intuitive_bayes_gp/lib/python3.10/site-packages/aesara/tensor/slinalg.py:63\u001b[0m, in \u001b[0;36mCholesky.perform\u001b[0;34m(self, node, inputs, outputs)\u001b[0m\n\u001b[1;32m     62\u001b[0m \u001b[38;5;28;01mtry\u001b[39;00m:\n\u001b[0;32m---> 63\u001b[0m     z[\u001b[38;5;241m0\u001b[39m] \u001b[38;5;241m=\u001b[39m \u001b[43mscipy\u001b[49m\u001b[38;5;241;43m.\u001b[39;49m\u001b[43mlinalg\u001b[49m\u001b[38;5;241;43m.\u001b[39;49m\u001b[43mcholesky\u001b[49m\u001b[43m(\u001b[49m\u001b[43mx\u001b[49m\u001b[43m,\u001b[49m\u001b[43m \u001b[49m\u001b[43mlower\u001b[49m\u001b[38;5;241;43m=\u001b[39;49m\u001b[38;5;28;43mself\u001b[39;49m\u001b[38;5;241;43m.\u001b[39;49m\u001b[43mlower\u001b[49m\u001b[43m)\u001b[49m\u001b[38;5;241m.\u001b[39mastype(x\u001b[38;5;241m.\u001b[39mdtype)\n\u001b[1;32m     64\u001b[0m \u001b[38;5;28;01mexcept\u001b[39;00m scipy\u001b[38;5;241m.\u001b[39mlinalg\u001b[38;5;241m.\u001b[39mLinAlgError:\n",
      "File \u001b[0;32m~/miniconda3/envs/intuitive_bayes_gp/lib/python3.10/site-packages/scipy/linalg/_decomp_cholesky.py:88\u001b[0m, in \u001b[0;36mcholesky\u001b[0;34m(a, lower, overwrite_a, check_finite)\u001b[0m\n\u001b[1;32m     46\u001b[0m \u001b[38;5;124;03m\"\"\"\u001b[39;00m\n\u001b[1;32m     47\u001b[0m \u001b[38;5;124;03mCompute the Cholesky decomposition of a matrix.\u001b[39;00m\n\u001b[1;32m     48\u001b[0m \n\u001b[0;32m   (...)\u001b[0m\n\u001b[1;32m     86\u001b[0m \n\u001b[1;32m     87\u001b[0m \u001b[38;5;124;03m\"\"\"\u001b[39;00m\n\u001b[0;32m---> 88\u001b[0m c, lower \u001b[38;5;241m=\u001b[39m \u001b[43m_cholesky\u001b[49m\u001b[43m(\u001b[49m\u001b[43ma\u001b[49m\u001b[43m,\u001b[49m\u001b[43m \u001b[49m\u001b[43mlower\u001b[49m\u001b[38;5;241;43m=\u001b[39;49m\u001b[43mlower\u001b[49m\u001b[43m,\u001b[49m\u001b[43m \u001b[49m\u001b[43moverwrite_a\u001b[49m\u001b[38;5;241;43m=\u001b[39;49m\u001b[43moverwrite_a\u001b[49m\u001b[43m,\u001b[49m\u001b[43m \u001b[49m\u001b[43mclean\u001b[49m\u001b[38;5;241;43m=\u001b[39;49m\u001b[38;5;28;43;01mTrue\u001b[39;49;00m\u001b[43m,\u001b[49m\n\u001b[1;32m     89\u001b[0m \u001b[43m                     \u001b[49m\u001b[43mcheck_finite\u001b[49m\u001b[38;5;241;43m=\u001b[39;49m\u001b[43mcheck_finite\u001b[49m\u001b[43m)\u001b[49m\n\u001b[1;32m     90\u001b[0m \u001b[38;5;28;01mreturn\u001b[39;00m c\n",
      "File \u001b[0;32m~/miniconda3/envs/intuitive_bayes_gp/lib/python3.10/site-packages/scipy/linalg/_decomp_cholesky.py:37\u001b[0m, in \u001b[0;36m_cholesky\u001b[0;34m(a, lower, overwrite_a, clean, check_finite)\u001b[0m\n\u001b[1;32m     36\u001b[0m \u001b[38;5;28;01mif\u001b[39;00m info \u001b[38;5;241m>\u001b[39m \u001b[38;5;241m0\u001b[39m:\n\u001b[0;32m---> 37\u001b[0m     \u001b[38;5;28;01mraise\u001b[39;00m LinAlgError(\u001b[38;5;124m\"\u001b[39m\u001b[38;5;132;01m%d\u001b[39;00m\u001b[38;5;124m-th leading minor of the array is not positive \u001b[39m\u001b[38;5;124m\"\u001b[39m\n\u001b[1;32m     38\u001b[0m                       \u001b[38;5;124m\"\u001b[39m\u001b[38;5;124mdefinite\u001b[39m\u001b[38;5;124m\"\u001b[39m \u001b[38;5;241m%\u001b[39m info)\n\u001b[1;32m     39\u001b[0m \u001b[38;5;28;01mif\u001b[39;00m info \u001b[38;5;241m<\u001b[39m \u001b[38;5;241m0\u001b[39m:\n",
      "\u001b[0;31mLinAlgError\u001b[0m: 21-th leading minor of the array is not positive definite",
      "\nDuring handling of the above exception, another exception occurred:\n",
      "\u001b[0;31mLinAlgError\u001b[0m                               Traceback (most recent call last)",
      "Input \u001b[0;32mIn [35]\u001b[0m, in \u001b[0;36m<cell line: 4>\u001b[0;34m()\u001b[0m\n\u001b[1;32m     17\u001b[0m obs \u001b[38;5;241m=\u001b[39m pm\u001b[38;5;241m.\u001b[39mNormal(\u001b[38;5;124m\"\u001b[39m\u001b[38;5;124mlik\u001b[39m\u001b[38;5;124m\"\u001b[39m, mu\u001b[38;5;241m=\u001b[39mf, sigma\u001b[38;5;241m=\u001b[39msigma, observed\u001b[38;5;241m=\u001b[39my_obs)\n\u001b[1;32m     19\u001b[0m \u001b[38;5;66;03m# TODO: Can we change these var names to be more intuitive\u001b[39;00m\n\u001b[0;32m---> 21\u001b[0m trace \u001b[38;5;241m=\u001b[39m \u001b[43mpm\u001b[49m\u001b[38;5;241;43m.\u001b[39;49m\u001b[43msample\u001b[49m\u001b[43m(\u001b[49m\u001b[38;5;241;43m1000\u001b[39;49m\u001b[43m,\u001b[49m\u001b[43m \u001b[49m\u001b[43mchains\u001b[49m\u001b[38;5;241;43m=\u001b[39;49m\u001b[38;5;241;43m2\u001b[39;49m\u001b[43m,\u001b[49m\u001b[43m \u001b[49m\u001b[43mreturn_inferencedata\u001b[49m\u001b[38;5;241;43m=\u001b[39;49m\u001b[38;5;28;43;01mTrue\u001b[39;49;00m\u001b[43m)\u001b[49m\n\u001b[1;32m     23\u001b[0m pred_samples \u001b[38;5;241m=\u001b[39m pm\u001b[38;5;241m.\u001b[39msample_posterior_predictive(trace\u001b[38;5;241m.\u001b[39mposterior, var_names\u001b[38;5;241m=\u001b[39m[\u001b[38;5;124m\"\u001b[39m\u001b[38;5;124mf_star\u001b[39m\u001b[38;5;124m\"\u001b[39m])\n",
      "File \u001b[0;32m~/miniconda3/envs/intuitive_bayes_gp/lib/python3.10/site-packages/pymc/sampling.py:524\u001b[0m, in \u001b[0;36msample\u001b[0;34m(draws, step, init, n_init, initvals, trace, chain_idx, chains, cores, tune, progressbar, model, random_seed, discard_tuned_samples, compute_convergence_checks, callback, jitter_max_retries, return_inferencedata, idata_kwargs, mp_ctx, **kwargs)\u001b[0m\n\u001b[1;32m    521\u001b[0m         auto_nuts_init \u001b[38;5;241m=\u001b[39m \u001b[38;5;28;01mFalse\u001b[39;00m\n\u001b[1;32m    523\u001b[0m initial_points \u001b[38;5;241m=\u001b[39m \u001b[38;5;28;01mNone\u001b[39;00m\n\u001b[0;32m--> 524\u001b[0m step \u001b[38;5;241m=\u001b[39m \u001b[43massign_step_methods\u001b[49m\u001b[43m(\u001b[49m\u001b[43mmodel\u001b[49m\u001b[43m,\u001b[49m\u001b[43m \u001b[49m\u001b[43mstep\u001b[49m\u001b[43m,\u001b[49m\u001b[43m \u001b[49m\u001b[43mmethods\u001b[49m\u001b[38;5;241;43m=\u001b[39;49m\u001b[43mpm\u001b[49m\u001b[38;5;241;43m.\u001b[39;49m\u001b[43mSTEP_METHODS\u001b[49m\u001b[43m,\u001b[49m\u001b[43m \u001b[49m\u001b[43mstep_kwargs\u001b[49m\u001b[38;5;241;43m=\u001b[39;49m\u001b[43mkwargs\u001b[49m\u001b[43m)\u001b[49m\n\u001b[1;32m    526\u001b[0m \u001b[38;5;28;01mif\u001b[39;00m \u001b[38;5;28misinstance\u001b[39m(step, \u001b[38;5;28mlist\u001b[39m):\n\u001b[1;32m    527\u001b[0m     step \u001b[38;5;241m=\u001b[39m CompoundStep(step)\n",
      "File \u001b[0;32m~/miniconda3/envs/intuitive_bayes_gp/lib/python3.10/site-packages/pymc/sampling.py:229\u001b[0m, in \u001b[0;36massign_step_methods\u001b[0;34m(model, step, methods, step_kwargs)\u001b[0m\n\u001b[1;32m    221\u001b[0m         selected \u001b[38;5;241m=\u001b[39m \u001b[38;5;28mmax\u001b[39m(\n\u001b[1;32m    222\u001b[0m             methods,\n\u001b[1;32m    223\u001b[0m             key\u001b[38;5;241m=\u001b[39m\u001b[38;5;28;01mlambda\u001b[39;00m method, var\u001b[38;5;241m=\u001b[39mrv_var, has_gradient\u001b[38;5;241m=\u001b[39mhas_gradient: method\u001b[38;5;241m.\u001b[39m_competence(\n\u001b[1;32m    224\u001b[0m                 var, has_gradient\n\u001b[1;32m    225\u001b[0m             ),\n\u001b[1;32m    226\u001b[0m         )\n\u001b[1;32m    227\u001b[0m         selected_steps[selected]\u001b[38;5;241m.\u001b[39mappend(var)\n\u001b[0;32m--> 229\u001b[0m \u001b[38;5;28;01mreturn\u001b[39;00m \u001b[43minstantiate_steppers\u001b[49m\u001b[43m(\u001b[49m\u001b[43mmodel\u001b[49m\u001b[43m,\u001b[49m\u001b[43m \u001b[49m\u001b[43msteps\u001b[49m\u001b[43m,\u001b[49m\u001b[43m \u001b[49m\u001b[43mselected_steps\u001b[49m\u001b[43m,\u001b[49m\u001b[43m \u001b[49m\u001b[43mstep_kwargs\u001b[49m\u001b[43m)\u001b[49m\n",
      "File \u001b[0;32m~/miniconda3/envs/intuitive_bayes_gp/lib/python3.10/site-packages/pymc/sampling.py:147\u001b[0m, in \u001b[0;36minstantiate_steppers\u001b[0;34m(model, steps, selected_steps, step_kwargs)\u001b[0m\n\u001b[1;32m    145\u001b[0m         args \u001b[38;5;241m=\u001b[39m step_kwargs\u001b[38;5;241m.\u001b[39mget(step_class\u001b[38;5;241m.\u001b[39mname, {})\n\u001b[1;32m    146\u001b[0m         used_keys\u001b[38;5;241m.\u001b[39madd(step_class\u001b[38;5;241m.\u001b[39mname)\n\u001b[0;32m--> 147\u001b[0m         step \u001b[38;5;241m=\u001b[39m \u001b[43mstep_class\u001b[49m\u001b[43m(\u001b[49m\u001b[38;5;28;43mvars\u001b[39;49m\u001b[38;5;241;43m=\u001b[39;49m\u001b[38;5;28;43mvars\u001b[39;49m\u001b[43m,\u001b[49m\u001b[43m \u001b[49m\u001b[43mmodel\u001b[49m\u001b[38;5;241;43m=\u001b[39;49m\u001b[43mmodel\u001b[49m\u001b[43m,\u001b[49m\u001b[43m \u001b[49m\u001b[38;5;241;43m*\u001b[39;49m\u001b[38;5;241;43m*\u001b[39;49m\u001b[43margs\u001b[49m\u001b[43m)\u001b[49m\n\u001b[1;32m    148\u001b[0m         steps\u001b[38;5;241m.\u001b[39mappend(step)\n\u001b[1;32m    150\u001b[0m unused_args \u001b[38;5;241m=\u001b[39m \u001b[38;5;28mset\u001b[39m(step_kwargs)\u001b[38;5;241m.\u001b[39mdifference(used_keys)\n",
      "File \u001b[0;32m~/miniconda3/envs/intuitive_bayes_gp/lib/python3.10/site-packages/pymc/step_methods/hmc/nuts.py:169\u001b[0m, in \u001b[0;36mNUTS.__init__\u001b[0;34m(self, vars, max_treedepth, early_max_treedepth, **kwargs)\u001b[0m\n\u001b[1;32m    111\u001b[0m \u001b[38;5;28;01mdef\u001b[39;00m \u001b[38;5;21m__init__\u001b[39m(\u001b[38;5;28mself\u001b[39m, \u001b[38;5;28mvars\u001b[39m\u001b[38;5;241m=\u001b[39m\u001b[38;5;28;01mNone\u001b[39;00m, max_treedepth\u001b[38;5;241m=\u001b[39m\u001b[38;5;241m10\u001b[39m, early_max_treedepth\u001b[38;5;241m=\u001b[39m\u001b[38;5;241m8\u001b[39m, \u001b[38;5;241m*\u001b[39m\u001b[38;5;241m*\u001b[39mkwargs):\n\u001b[1;32m    112\u001b[0m     \u001b[38;5;124mr\u001b[39m\u001b[38;5;124;03m\"\"\"Set up the No-U-Turn sampler.\u001b[39;00m\n\u001b[1;32m    113\u001b[0m \n\u001b[1;32m    114\u001b[0m \u001b[38;5;124;03m    Parameters\u001b[39;00m\n\u001b[0;32m   (...)\u001b[0m\n\u001b[1;32m    167\u001b[0m \u001b[38;5;124;03m    `pm.sample` to the desired number of tuning steps.\u001b[39;00m\n\u001b[1;32m    168\u001b[0m \u001b[38;5;124;03m    \"\"\"\u001b[39;00m\n\u001b[0;32m--> 169\u001b[0m     \u001b[38;5;28;43msuper\u001b[39;49m\u001b[43m(\u001b[49m\u001b[43m)\u001b[49m\u001b[38;5;241;43m.\u001b[39;49m\u001b[38;5;21;43m__init__\u001b[39;49m\u001b[43m(\u001b[49m\u001b[38;5;28;43mvars\u001b[39;49m\u001b[43m,\u001b[49m\u001b[43m \u001b[49m\u001b[38;5;241;43m*\u001b[39;49m\u001b[38;5;241;43m*\u001b[39;49m\u001b[43mkwargs\u001b[49m\u001b[43m)\u001b[49m\n\u001b[1;32m    171\u001b[0m     \u001b[38;5;28mself\u001b[39m\u001b[38;5;241m.\u001b[39mmax_treedepth \u001b[38;5;241m=\u001b[39m max_treedepth\n\u001b[1;32m    172\u001b[0m     \u001b[38;5;28mself\u001b[39m\u001b[38;5;241m.\u001b[39mearly_max_treedepth \u001b[38;5;241m=\u001b[39m early_max_treedepth\n",
      "File \u001b[0;32m~/miniconda3/envs/intuitive_bayes_gp/lib/python3.10/site-packages/pymc/step_methods/hmc/base_hmc.py:95\u001b[0m, in \u001b[0;36mBaseHMC.__init__\u001b[0;34m(self, vars, scaling, step_scale, is_cov, model, blocked, potential, dtype, Emax, target_accept, gamma, k, t0, adapt_step_size, step_rand, **aesara_kwargs)\u001b[0m\n\u001b[1;32m     92\u001b[0m \u001b[38;5;28;01melse\u001b[39;00m:\n\u001b[1;32m     93\u001b[0m     \u001b[38;5;28mvars\u001b[39m \u001b[38;5;241m=\u001b[39m [\u001b[38;5;28mself\u001b[39m\u001b[38;5;241m.\u001b[39m_model\u001b[38;5;241m.\u001b[39mrvs_to_values\u001b[38;5;241m.\u001b[39mget(var, var) \u001b[38;5;28;01mfor\u001b[39;00m var \u001b[38;5;129;01min\u001b[39;00m \u001b[38;5;28mvars\u001b[39m]\n\u001b[0;32m---> 95\u001b[0m \u001b[38;5;28;43msuper\u001b[39;49m\u001b[43m(\u001b[49m\u001b[43m)\u001b[49m\u001b[38;5;241;43m.\u001b[39;49m\u001b[38;5;21;43m__init__\u001b[39;49m\u001b[43m(\u001b[49m\u001b[38;5;28;43mvars\u001b[39;49m\u001b[43m,\u001b[49m\u001b[43m \u001b[49m\u001b[43mblocked\u001b[49m\u001b[38;5;241;43m=\u001b[39;49m\u001b[43mblocked\u001b[49m\u001b[43m,\u001b[49m\u001b[43m \u001b[49m\u001b[43mmodel\u001b[49m\u001b[38;5;241;43m=\u001b[39;49m\u001b[38;5;28;43mself\u001b[39;49m\u001b[38;5;241;43m.\u001b[39;49m\u001b[43m_model\u001b[49m\u001b[43m,\u001b[49m\u001b[43m \u001b[49m\u001b[43mdtype\u001b[49m\u001b[38;5;241;43m=\u001b[39;49m\u001b[43mdtype\u001b[49m\u001b[43m,\u001b[49m\u001b[43m \u001b[49m\u001b[38;5;241;43m*\u001b[39;49m\u001b[38;5;241;43m*\u001b[39;49m\u001b[43maesara_kwargs\u001b[49m\u001b[43m)\u001b[49m\n\u001b[1;32m     97\u001b[0m \u001b[38;5;28mself\u001b[39m\u001b[38;5;241m.\u001b[39madapt_step_size \u001b[38;5;241m=\u001b[39m adapt_step_size\n\u001b[1;32m     98\u001b[0m \u001b[38;5;28mself\u001b[39m\u001b[38;5;241m.\u001b[39mEmax \u001b[38;5;241m=\u001b[39m Emax\n",
      "File \u001b[0;32m~/miniconda3/envs/intuitive_bayes_gp/lib/python3.10/site-packages/pymc/step_methods/arraystep.py:276\u001b[0m, in \u001b[0;36mGradientSharedStep.__init__\u001b[0;34m(self, vars, model, blocked, dtype, logp_dlogp_func, **aesara_kwargs)\u001b[0m\n\u001b[1;32m    273\u001b[0m model \u001b[38;5;241m=\u001b[39m modelcontext(model)\n\u001b[1;32m    275\u001b[0m \u001b[38;5;28;01mif\u001b[39;00m logp_dlogp_func \u001b[38;5;129;01mis\u001b[39;00m \u001b[38;5;28;01mNone\u001b[39;00m:\n\u001b[0;32m--> 276\u001b[0m     func \u001b[38;5;241m=\u001b[39m \u001b[43mmodel\u001b[49m\u001b[38;5;241;43m.\u001b[39;49m\u001b[43mlogp_dlogp_function\u001b[49m\u001b[43m(\u001b[49m\u001b[38;5;28;43mvars\u001b[39;49m\u001b[43m,\u001b[49m\u001b[43m \u001b[49m\u001b[43mdtype\u001b[49m\u001b[38;5;241;43m=\u001b[39;49m\u001b[43mdtype\u001b[49m\u001b[43m,\u001b[49m\u001b[43m \u001b[49m\u001b[38;5;241;43m*\u001b[39;49m\u001b[38;5;241;43m*\u001b[39;49m\u001b[43maesara_kwargs\u001b[49m\u001b[43m)\u001b[49m\n\u001b[1;32m    277\u001b[0m \u001b[38;5;28;01melse\u001b[39;00m:\n\u001b[1;32m    278\u001b[0m     func \u001b[38;5;241m=\u001b[39m logp_dlogp_func\n",
      "File \u001b[0;32m~/miniconda3/envs/intuitive_bayes_gp/lib/python3.10/site-packages/pymc/model.py:633\u001b[0m, in \u001b[0;36mModel.logp_dlogp_function\u001b[0;34m(self, grad_vars, tempered, **kwargs)\u001b[0m\n\u001b[1;32m    631\u001b[0m input_vars \u001b[38;5;241m=\u001b[39m {i \u001b[38;5;28;01mfor\u001b[39;00m i \u001b[38;5;129;01min\u001b[39;00m graph_inputs(costs) \u001b[38;5;28;01mif\u001b[39;00m \u001b[38;5;129;01mnot\u001b[39;00m \u001b[38;5;28misinstance\u001b[39m(i, Constant)}\n\u001b[1;32m    632\u001b[0m extra_vars \u001b[38;5;241m=\u001b[39m [\u001b[38;5;28mself\u001b[39m\u001b[38;5;241m.\u001b[39mrvs_to_values\u001b[38;5;241m.\u001b[39mget(var, var) \u001b[38;5;28;01mfor\u001b[39;00m var \u001b[38;5;129;01min\u001b[39;00m \u001b[38;5;28mself\u001b[39m\u001b[38;5;241m.\u001b[39mfree_RVs]\n\u001b[0;32m--> 633\u001b[0m ip \u001b[38;5;241m=\u001b[39m \u001b[38;5;28;43mself\u001b[39;49m\u001b[38;5;241;43m.\u001b[39;49m\u001b[43minitial_point\u001b[49m\u001b[43m(\u001b[49m\u001b[38;5;241;43m0\u001b[39;49m\u001b[43m)\u001b[49m\n\u001b[1;32m    634\u001b[0m extra_vars_and_values \u001b[38;5;241m=\u001b[39m {\n\u001b[1;32m    635\u001b[0m     var: ip[var\u001b[38;5;241m.\u001b[39mname] \u001b[38;5;28;01mfor\u001b[39;00m var \u001b[38;5;129;01min\u001b[39;00m extra_vars \u001b[38;5;28;01mif\u001b[39;00m var \u001b[38;5;129;01min\u001b[39;00m input_vars \u001b[38;5;129;01mand\u001b[39;00m var \u001b[38;5;129;01mnot\u001b[39;00m \u001b[38;5;129;01min\u001b[39;00m grad_vars\n\u001b[1;32m    636\u001b[0m }\n\u001b[1;32m    637\u001b[0m \u001b[38;5;28;01mreturn\u001b[39;00m ValueGradFunction(costs, grad_vars, extra_vars_and_values, \u001b[38;5;241m*\u001b[39m\u001b[38;5;241m*\u001b[39mkwargs)\n",
      "File \u001b[0;32m~/miniconda3/envs/intuitive_bayes_gp/lib/python3.10/site-packages/pymc/model.py:1064\u001b[0m, in \u001b[0;36mModel.initial_point\u001b[0;34m(self, seed)\u001b[0m\n\u001b[1;32m   1056\u001b[0m \u001b[38;5;124;03m\"\"\"Computes the initial point of the model.\u001b[39;00m\n\u001b[1;32m   1057\u001b[0m \n\u001b[1;32m   1058\u001b[0m \u001b[38;5;124;03mReturns\u001b[39;00m\n\u001b[0;32m   (...)\u001b[0m\n\u001b[1;32m   1061\u001b[0m \u001b[38;5;124;03m    Maps names of transformed variables to numeric initial values in the transformed space.\u001b[39;00m\n\u001b[1;32m   1062\u001b[0m \u001b[38;5;124;03m\"\"\"\u001b[39;00m\n\u001b[1;32m   1063\u001b[0m fn \u001b[38;5;241m=\u001b[39m make_initial_point_fn(model\u001b[38;5;241m=\u001b[39m\u001b[38;5;28mself\u001b[39m, return_transformed\u001b[38;5;241m=\u001b[39m\u001b[38;5;28;01mTrue\u001b[39;00m)\n\u001b[0;32m-> 1064\u001b[0m \u001b[38;5;28;01mreturn\u001b[39;00m Point(\u001b[43mfn\u001b[49m\u001b[43m(\u001b[49m\u001b[43mseed\u001b[49m\u001b[43m)\u001b[49m, model\u001b[38;5;241m=\u001b[39m\u001b[38;5;28mself\u001b[39m)\n",
      "File \u001b[0;32m~/miniconda3/envs/intuitive_bayes_gp/lib/python3.10/site-packages/pymc/initial_point.py:199\u001b[0m, in \u001b[0;36mmake_initial_point_fn.<locals>.make_seeded_function.<locals>.inner\u001b[0;34m(seed, *args, **kwargs)\u001b[0m\n\u001b[1;32m    196\u001b[0m \u001b[38;5;129m@functools\u001b[39m\u001b[38;5;241m.\u001b[39mwraps(func)\n\u001b[1;32m    197\u001b[0m \u001b[38;5;28;01mdef\u001b[39;00m \u001b[38;5;21minner\u001b[39m(seed, \u001b[38;5;241m*\u001b[39margs, \u001b[38;5;241m*\u001b[39m\u001b[38;5;241m*\u001b[39mkwargs):\n\u001b[1;32m    198\u001b[0m     reseed_rngs(rngs, seed)\n\u001b[0;32m--> 199\u001b[0m     values \u001b[38;5;241m=\u001b[39m \u001b[43mfunc\u001b[49m\u001b[43m(\u001b[49m\u001b[38;5;241;43m*\u001b[39;49m\u001b[43margs\u001b[49m\u001b[43m,\u001b[49m\u001b[43m \u001b[49m\u001b[38;5;241;43m*\u001b[39;49m\u001b[38;5;241;43m*\u001b[39;49m\u001b[43mkwargs\u001b[49m\u001b[43m)\u001b[49m\n\u001b[1;32m    200\u001b[0m     \u001b[38;5;28;01mreturn\u001b[39;00m \u001b[38;5;28mdict\u001b[39m(\u001b[38;5;28mzip\u001b[39m(varnames, values))\n",
      "File \u001b[0;32m~/miniconda3/envs/intuitive_bayes_gp/lib/python3.10/site-packages/aesara/compile/function/types.py:975\u001b[0m, in \u001b[0;36mFunction.__call__\u001b[0;34m(self, *args, **kwargs)\u001b[0m\n\u001b[1;32m    972\u001b[0m t0_fn \u001b[38;5;241m=\u001b[39m time\u001b[38;5;241m.\u001b[39mtime()\n\u001b[1;32m    973\u001b[0m \u001b[38;5;28;01mtry\u001b[39;00m:\n\u001b[1;32m    974\u001b[0m     outputs \u001b[38;5;241m=\u001b[39m (\n\u001b[0;32m--> 975\u001b[0m         \u001b[38;5;28;43mself\u001b[39;49m\u001b[38;5;241;43m.\u001b[39;49m\u001b[43mvm\u001b[49m\u001b[43m(\u001b[49m\u001b[43m)\u001b[49m\n\u001b[1;32m    976\u001b[0m         \u001b[38;5;28;01mif\u001b[39;00m output_subset \u001b[38;5;129;01mis\u001b[39;00m \u001b[38;5;28;01mNone\u001b[39;00m\n\u001b[1;32m    977\u001b[0m         \u001b[38;5;28;01melse\u001b[39;00m \u001b[38;5;28mself\u001b[39m\u001b[38;5;241m.\u001b[39mvm(output_subset\u001b[38;5;241m=\u001b[39moutput_subset)\n\u001b[1;32m    978\u001b[0m     )\n\u001b[1;32m    979\u001b[0m \u001b[38;5;28;01mexcept\u001b[39;00m \u001b[38;5;167;01mException\u001b[39;00m:\n\u001b[1;32m    980\u001b[0m     restore_defaults()\n",
      "File \u001b[0;32m~/miniconda3/envs/intuitive_bayes_gp/lib/python3.10/site-packages/aesara/link/vm.py:417\u001b[0m, in \u001b[0;36mLoop.__call__\u001b[0;34m(self)\u001b[0m\n\u001b[1;32m    415\u001b[0m                 old_s[\u001b[38;5;241m0\u001b[39m] \u001b[38;5;241m=\u001b[39m \u001b[38;5;28;01mNone\u001b[39;00m\n\u001b[1;32m    416\u001b[0m     \u001b[38;5;28;01mexcept\u001b[39;00m \u001b[38;5;167;01mException\u001b[39;00m:\n\u001b[0;32m--> 417\u001b[0m         \u001b[43mraise_with_op\u001b[49m\u001b[43m(\u001b[49m\u001b[38;5;28;43mself\u001b[39;49m\u001b[38;5;241;43m.\u001b[39;49m\u001b[43mfgraph\u001b[49m\u001b[43m,\u001b[49m\u001b[43m \u001b[49m\u001b[43mnode\u001b[49m\u001b[43m,\u001b[49m\u001b[43m \u001b[49m\u001b[43mthunk\u001b[49m\u001b[43m)\u001b[49m\n\u001b[1;32m    419\u001b[0m \u001b[38;5;28;01mreturn\u001b[39;00m \u001b[38;5;28mself\u001b[39m\u001b[38;5;241m.\u001b[39mperform_updates()\n",
      "File \u001b[0;32m~/miniconda3/envs/intuitive_bayes_gp/lib/python3.10/site-packages/aesara/link/utils.py:534\u001b[0m, in \u001b[0;36mraise_with_op\u001b[0;34m(fgraph, node, thunk, exc_info, storage_map)\u001b[0m\n\u001b[1;32m    529\u001b[0m     warnings\u001b[38;5;241m.\u001b[39mwarn(\n\u001b[1;32m    530\u001b[0m         \u001b[38;5;124mf\u001b[39m\u001b[38;5;124m\"\u001b[39m\u001b[38;5;132;01m{\u001b[39;00mexc_type\u001b[38;5;132;01m}\u001b[39;00m\u001b[38;5;124m error does not allow us to add an extra error message\u001b[39m\u001b[38;5;124m\"\u001b[39m\n\u001b[1;32m    531\u001b[0m     )\n\u001b[1;32m    532\u001b[0m     \u001b[38;5;66;03m# Some exception need extra parameter in inputs. So forget the\u001b[39;00m\n\u001b[1;32m    533\u001b[0m     \u001b[38;5;66;03m# extra long error message in that case.\u001b[39;00m\n\u001b[0;32m--> 534\u001b[0m \u001b[38;5;28;01mraise\u001b[39;00m exc_value\u001b[38;5;241m.\u001b[39mwith_traceback(exc_trace)\n",
      "File \u001b[0;32m~/miniconda3/envs/intuitive_bayes_gp/lib/python3.10/site-packages/aesara/link/vm.py:413\u001b[0m, in \u001b[0;36mLoop.__call__\u001b[0;34m(self)\u001b[0m\n\u001b[1;32m    409\u001b[0m \u001b[38;5;28;01mtry\u001b[39;00m:\n\u001b[1;32m    410\u001b[0m     \u001b[38;5;28;01mfor\u001b[39;00m thunk, node, old_storage \u001b[38;5;129;01min\u001b[39;00m zip_longest(\n\u001b[1;32m    411\u001b[0m         \u001b[38;5;28mself\u001b[39m\u001b[38;5;241m.\u001b[39mthunks, \u001b[38;5;28mself\u001b[39m\u001b[38;5;241m.\u001b[39mnodes, \u001b[38;5;28mself\u001b[39m\u001b[38;5;241m.\u001b[39mpost_thunk_clear, fillvalue\u001b[38;5;241m=\u001b[39m()\n\u001b[1;32m    412\u001b[0m     ):\n\u001b[0;32m--> 413\u001b[0m         \u001b[43mthunk\u001b[49m\u001b[43m(\u001b[49m\u001b[43m)\u001b[49m\n\u001b[1;32m    414\u001b[0m         \u001b[38;5;28;01mfor\u001b[39;00m old_s \u001b[38;5;129;01min\u001b[39;00m old_storage:\n\u001b[1;32m    415\u001b[0m             old_s[\u001b[38;5;241m0\u001b[39m] \u001b[38;5;241m=\u001b[39m \u001b[38;5;28;01mNone\u001b[39;00m\n",
      "File \u001b[0;32m~/miniconda3/envs/intuitive_bayes_gp/lib/python3.10/site-packages/aesara/graph/op.py:524\u001b[0m, in \u001b[0;36mOp.make_py_thunk.<locals>.rval\u001b[0;34m(p, i, o, n, params)\u001b[0m\n\u001b[1;32m    520\u001b[0m \u001b[38;5;129m@is_thunk_type\u001b[39m\n\u001b[1;32m    521\u001b[0m \u001b[38;5;28;01mdef\u001b[39;00m \u001b[38;5;21mrval\u001b[39m(\n\u001b[1;32m    522\u001b[0m     p\u001b[38;5;241m=\u001b[39mp, i\u001b[38;5;241m=\u001b[39mnode_input_storage, o\u001b[38;5;241m=\u001b[39mnode_output_storage, n\u001b[38;5;241m=\u001b[39mnode, params\u001b[38;5;241m=\u001b[39m\u001b[38;5;28;01mNone\u001b[39;00m\n\u001b[1;32m    523\u001b[0m ):\n\u001b[0;32m--> 524\u001b[0m     r \u001b[38;5;241m=\u001b[39m \u001b[43mp\u001b[49m\u001b[43m(\u001b[49m\u001b[43mn\u001b[49m\u001b[43m,\u001b[49m\u001b[43m \u001b[49m\u001b[43m[\u001b[49m\u001b[43mx\u001b[49m\u001b[43m[\u001b[49m\u001b[38;5;241;43m0\u001b[39;49m\u001b[43m]\u001b[49m\u001b[43m \u001b[49m\u001b[38;5;28;43;01mfor\u001b[39;49;00m\u001b[43m \u001b[49m\u001b[43mx\u001b[49m\u001b[43m \u001b[49m\u001b[38;5;129;43;01min\u001b[39;49;00m\u001b[43m \u001b[49m\u001b[43mi\u001b[49m\u001b[43m]\u001b[49m\u001b[43m,\u001b[49m\u001b[43m \u001b[49m\u001b[43mo\u001b[49m\u001b[43m)\u001b[49m\n\u001b[1;32m    525\u001b[0m     \u001b[38;5;28;01mfor\u001b[39;00m o \u001b[38;5;129;01min\u001b[39;00m node\u001b[38;5;241m.\u001b[39moutputs:\n\u001b[1;32m    526\u001b[0m         compute_map[o][\u001b[38;5;241m0\u001b[39m] \u001b[38;5;241m=\u001b[39m \u001b[38;5;28;01mTrue\u001b[39;00m\n",
      "File \u001b[0;32m~/miniconda3/envs/intuitive_bayes_gp/lib/python3.10/site-packages/aesara/tensor/slinalg.py:63\u001b[0m, in \u001b[0;36mCholesky.perform\u001b[0;34m(self, node, inputs, outputs)\u001b[0m\n\u001b[1;32m     61\u001b[0m z \u001b[38;5;241m=\u001b[39m outputs[\u001b[38;5;241m0\u001b[39m]\n\u001b[1;32m     62\u001b[0m \u001b[38;5;28;01mtry\u001b[39;00m:\n\u001b[0;32m---> 63\u001b[0m     z[\u001b[38;5;241m0\u001b[39m] \u001b[38;5;241m=\u001b[39m \u001b[43mscipy\u001b[49m\u001b[38;5;241;43m.\u001b[39;49m\u001b[43mlinalg\u001b[49m\u001b[38;5;241;43m.\u001b[39;49m\u001b[43mcholesky\u001b[49m\u001b[43m(\u001b[49m\u001b[43mx\u001b[49m\u001b[43m,\u001b[49m\u001b[43m \u001b[49m\u001b[43mlower\u001b[49m\u001b[38;5;241;43m=\u001b[39;49m\u001b[38;5;28;43mself\u001b[39;49m\u001b[38;5;241;43m.\u001b[39;49m\u001b[43mlower\u001b[49m\u001b[43m)\u001b[49m\u001b[38;5;241m.\u001b[39mastype(x\u001b[38;5;241m.\u001b[39mdtype)\n\u001b[1;32m     64\u001b[0m \u001b[38;5;28;01mexcept\u001b[39;00m scipy\u001b[38;5;241m.\u001b[39mlinalg\u001b[38;5;241m.\u001b[39mLinAlgError:\n\u001b[1;32m     65\u001b[0m     \u001b[38;5;28;01mif\u001b[39;00m \u001b[38;5;28mself\u001b[39m\u001b[38;5;241m.\u001b[39mon_error \u001b[38;5;241m==\u001b[39m \u001b[38;5;124m\"\u001b[39m\u001b[38;5;124mraise\u001b[39m\u001b[38;5;124m\"\u001b[39m:\n",
      "File \u001b[0;32m~/miniconda3/envs/intuitive_bayes_gp/lib/python3.10/site-packages/scipy/linalg/_decomp_cholesky.py:88\u001b[0m, in \u001b[0;36mcholesky\u001b[0;34m(a, lower, overwrite_a, check_finite)\u001b[0m\n\u001b[1;32m     45\u001b[0m \u001b[38;5;28;01mdef\u001b[39;00m \u001b[38;5;21mcholesky\u001b[39m(a, lower\u001b[38;5;241m=\u001b[39m\u001b[38;5;28;01mFalse\u001b[39;00m, overwrite_a\u001b[38;5;241m=\u001b[39m\u001b[38;5;28;01mFalse\u001b[39;00m, check_finite\u001b[38;5;241m=\u001b[39m\u001b[38;5;28;01mTrue\u001b[39;00m):\n\u001b[1;32m     46\u001b[0m     \u001b[38;5;124;03m\"\"\"\u001b[39;00m\n\u001b[1;32m     47\u001b[0m \u001b[38;5;124;03m    Compute the Cholesky decomposition of a matrix.\u001b[39;00m\n\u001b[1;32m     48\u001b[0m \n\u001b[0;32m   (...)\u001b[0m\n\u001b[1;32m     86\u001b[0m \n\u001b[1;32m     87\u001b[0m \u001b[38;5;124;03m    \"\"\"\u001b[39;00m\n\u001b[0;32m---> 88\u001b[0m     c, lower \u001b[38;5;241m=\u001b[39m \u001b[43m_cholesky\u001b[49m\u001b[43m(\u001b[49m\u001b[43ma\u001b[49m\u001b[43m,\u001b[49m\u001b[43m \u001b[49m\u001b[43mlower\u001b[49m\u001b[38;5;241;43m=\u001b[39;49m\u001b[43mlower\u001b[49m\u001b[43m,\u001b[49m\u001b[43m \u001b[49m\u001b[43moverwrite_a\u001b[49m\u001b[38;5;241;43m=\u001b[39;49m\u001b[43moverwrite_a\u001b[49m\u001b[43m,\u001b[49m\u001b[43m \u001b[49m\u001b[43mclean\u001b[49m\u001b[38;5;241;43m=\u001b[39;49m\u001b[38;5;28;43;01mTrue\u001b[39;49;00m\u001b[43m,\u001b[49m\n\u001b[1;32m     89\u001b[0m \u001b[43m                         \u001b[49m\u001b[43mcheck_finite\u001b[49m\u001b[38;5;241;43m=\u001b[39;49m\u001b[43mcheck_finite\u001b[49m\u001b[43m)\u001b[49m\n\u001b[1;32m     90\u001b[0m     \u001b[38;5;28;01mreturn\u001b[39;00m c\n",
      "File \u001b[0;32m~/miniconda3/envs/intuitive_bayes_gp/lib/python3.10/site-packages/scipy/linalg/_decomp_cholesky.py:37\u001b[0m, in \u001b[0;36m_cholesky\u001b[0;34m(a, lower, overwrite_a, clean, check_finite)\u001b[0m\n\u001b[1;32m     35\u001b[0m c, info \u001b[38;5;241m=\u001b[39m potrf(a1, lower\u001b[38;5;241m=\u001b[39mlower, overwrite_a\u001b[38;5;241m=\u001b[39moverwrite_a, clean\u001b[38;5;241m=\u001b[39mclean)\n\u001b[1;32m     36\u001b[0m \u001b[38;5;28;01mif\u001b[39;00m info \u001b[38;5;241m>\u001b[39m \u001b[38;5;241m0\u001b[39m:\n\u001b[0;32m---> 37\u001b[0m     \u001b[38;5;28;01mraise\u001b[39;00m LinAlgError(\u001b[38;5;124m\"\u001b[39m\u001b[38;5;132;01m%d\u001b[39;00m\u001b[38;5;124m-th leading minor of the array is not positive \u001b[39m\u001b[38;5;124m\"\u001b[39m\n\u001b[1;32m     38\u001b[0m                       \u001b[38;5;124m\"\u001b[39m\u001b[38;5;124mdefinite\u001b[39m\u001b[38;5;124m\"\u001b[39m \u001b[38;5;241m%\u001b[39m info)\n\u001b[1;32m     39\u001b[0m \u001b[38;5;28;01mif\u001b[39;00m info \u001b[38;5;241m<\u001b[39m \u001b[38;5;241m0\u001b[39m:\n\u001b[1;32m     40\u001b[0m     \u001b[38;5;28;01mraise\u001b[39;00m \u001b[38;5;167;01mValueError\u001b[39;00m(\u001b[38;5;124m'\u001b[39m\u001b[38;5;124mLAPACK reported an illegal value in \u001b[39m\u001b[38;5;132;01m{}\u001b[39;00m\u001b[38;5;124m-th argument\u001b[39m\u001b[38;5;124m'\u001b[39m\n\u001b[1;32m     41\u001b[0m                      \u001b[38;5;124m'\u001b[39m\u001b[38;5;124mon entry to \u001b[39m\u001b[38;5;124m\"\u001b[39m\u001b[38;5;124mPOTRF\u001b[39m\u001b[38;5;124m\"\u001b[39m\u001b[38;5;124m.\u001b[39m\u001b[38;5;124m'\u001b[39m\u001b[38;5;241m.\u001b[39mformat(\u001b[38;5;241m-\u001b[39minfo))\n",
      "\u001b[0;31mLinAlgError\u001b[0m: 21-th leading minor of the array is not positive definite\nApply node that caused the error: Cholesky{lower=True, destructive=False, on_error='raise'}(TensorConstant{[[1.000000..0000e+00]]})\nToposort index: 1\nInputs types: [TensorType(float64, (60, 60))]\nInputs shapes: [(60, 60)]\nInputs strides: [(480, 8)]\nInputs values: ['not shown']\nOutputs clients: [[SolveTriangular{lower=True, trans=0, unit_diagonal=False, check_finite=True}(Cholesky{lower=True, destructive=False, on_error='raise'}.0, TensorConstant{[[0.000000..531e-314]]}), SolveTriangular{lower=True, trans=0, unit_diagonal=False, check_finite=True}(Cholesky{lower=True, destructive=False, on_error='raise'}.0, f{(60,) of 0.0})]]\n\nBacktrace when the node is created (use Aesara flag traceback__limit=N to make it longer):\n  File \"/home/canyon/miniconda3/envs/intuitive_bayes_gp/lib/python3.10/site-packages/IPython/core/interactiveshell.py\", line 2936, in _run_cell\n    return runner(coro)\n  File \"/home/canyon/miniconda3/envs/intuitive_bayes_gp/lib/python3.10/site-packages/IPython/core/async_helpers.py\", line 129, in _pseudo_sync_runner\n    coro.send(None)\n  File \"/home/canyon/miniconda3/envs/intuitive_bayes_gp/lib/python3.10/site-packages/IPython/core/interactiveshell.py\", line 3135, in run_cell_async\n    has_raised = await self.run_ast_nodes(code_ast.body, cell_name,\n  File \"/home/canyon/miniconda3/envs/intuitive_bayes_gp/lib/python3.10/site-packages/IPython/core/interactiveshell.py\", line 3338, in run_ast_nodes\n    if await self.run_code(code, result, async_=asy):\n  File \"/home/canyon/miniconda3/envs/intuitive_bayes_gp/lib/python3.10/site-packages/IPython/core/interactiveshell.py\", line 3398, in run_code\n    exec(code_obj, self.user_global_ns, self.user_ns)\n  File \"/tmp/ipykernel_9285/1074937131.py\", line 15, in <cell line: 4>\n    f_star = gp.conditional(\"f_star\", np.array([.2])[:, None])\n  File \"/home/canyon/miniconda3/envs/intuitive_bayes_gp/lib/python3.10/site-packages/pymc/gp/gp.py\", line 233, in conditional\n    mu, cov = self._build_conditional(Xnew, *givens, jitter)\n  File \"/home/canyon/miniconda3/envs/intuitive_bayes_gp/lib/python3.10/site-packages/pymc/gp/gp.py\", line 191, in _build_conditional\n    L = cholesky(stabilize(Kxx, jitter))\n\nHINT: Use the Aesara flag `exception_verbosity=high` for a debug print-out and storage map footprint of this Apply node."
     ]
    }
   ],
   "source": [
    "X = x_vals[:,None]\n",
    "x_prediction = .2\n",
    "\n",
    "with pm.Model() as latent_gp_model:\n",
    "    # Specify the covariance function.\n",
    "    cov_func = pm.gp.cov.ExpQuad(1, ls=0.1)\n",
    "\n",
    "    # Specify the GP.  The default mean function is `Zero`.\n",
    "    gp = pm.gp.Latent(cov_func=cov_func)\n",
    "    \n",
    "    # Place a GP prior over the function f.\n",
    "    f = gp.prior(\"f\", X=X)\n",
    "    \n",
    "    # TODO: This line is causing an aesara exception\n",
    "    f_star = gp.conditional(\"f_star\", np.array([.2])[:, None])\n",
    "\n",
    "    obs = pm.Normal(\"lik\", mu=f, sigma=sigma, observed=y_obs)\n",
    "    \n",
    "    # TODO: Can we change these var names to be more intuitive\n",
    "\n",
    "    trace = pm.sample(1000, chains=2, return_inferencedata=True)\n",
    "    \n",
    "    pred_samples = pm.sample_posterior_predictive(trace.posterior, var_names=[\"f_star\"])"
   ]
  },
  {
   "cell_type": "markdown",
   "id": "7a26ed01",
   "metadata": {},
   "source": [
    "One, We're going to do it using a GP. And 2 were going to show you exactly how we're going to do it in great detail. Even more detail than you're seeing here"
   ]
  },
  {
   "cell_type": "code",
   "execution_count": null,
   "id": "9b9fb3e9",
   "metadata": {},
   "outputs": [],
   "source": [
    "pred_samples.posterior_predictive.values"
   ]
  },
  {
   "cell_type": "code",
   "execution_count": null,
   "id": "3a118dfa",
   "metadata": {},
   "outputs": [],
   "source": [
    "vals = pred_samples.posterior_predictive.f_star.values.squeeze()"
   ]
  },
  {
   "cell_type": "markdown",
   "id": "26e3de23",
   "metadata": {},
   "source": [
    "Question for Bill: Posterior Predictive looks very wide. Am I accidentally sampling from the prior?"
   ]
  },
  {
   "cell_type": "code",
   "execution_count": null,
   "id": "fe90a245",
   "metadata": {
    "lines_to_next_cell": 0
   },
   "outputs": [],
   "source": [
    "figsize = (14,7)  \n",
    "fig, ax = plt.subplots(figsize=figsize)\n",
    "\n",
    "ax.scatter(x_vals, y)\n",
    "ax.scatter(np.full(vals.shape, x_prediction), vals, alpha=.4);"
   ]
  },
  {
   "cell_type": "markdown",
   "id": "add9d65c",
   "metadata": {},
   "source": [
    "## Test Section\n",
    "Temporary questions for bill\n",
    "* If Y is randomly generated how is it observed/"
   ]
  },
  {
   "cell_type": "code",
   "execution_count": 76,
   "id": "21280294",
   "metadata": {},
   "outputs": [
    {
     "data": {
      "image/png": "[encoded data removed]",
      "text/plain": [
       "<Figure size 864x360 with 1 Axes>"
      ]
     },
     "metadata": {
      "needs_background": "light"
     },
     "output_type": "display_data"
    }
   ],
   "source": [
    "n = 200  # The number of data points\n",
    "X = np.linspace(0, 10, n)[:, None]  # The inputs to the GP must be arranged as a column vector\n",
    "\n",
    "# Define the true covariance function and its parameters\n",
    "ℓ_true = 1.0\n",
    "η_true = 3.0\n",
    "\n",
    "## TODO IB: Construct this manually using numpy ad arrays\n",
    "cov_func = η_true ** 2 * pm.gp.cov.Matern52(1, ℓ_true)\n",
    "\n",
    "# A mean function that is zero everywhere\n",
    "# TODO: Construct this manually using np.tile or something like that\n",
    "mean_func = pm.gp.mean.Zero()\n",
    "\n",
    "# The latent function values are one sample from a multivariate normal\n",
    "# Note that we have to call `eval()` because PyMC3 built on top of Theano\n",
    "f_true = np.random.multivariate_normal(\n",
    "    mean_func(X).eval(), cov_func(X).eval() + 1e-8 * np.eye(n), 1\n",
    ").flatten()\n",
    "\n",
    "# The observed data is the latent function plus a small amount of T distributed noise\n",
    "# The standard deviation of the noise is `sigma`, and the degrees of freedom is `nu`\n",
    "σ_true = 2.0\n",
    "ν_true = 3.0\n",
    "y = f_true # + σ_true * np.random.standard_t(ν_true, size=n)\n",
    "\n",
    "## Plot the data and the unobserved latent function\n",
    "fig = plt.figure(figsize=(12, 5))\n",
    "ax = fig.gca()\n",
    "ax.plot(X, f_true, \"dodgerblue\", lw=3, label=\"True generating function 'f'\")\n",
    "ax.plot(X, y, \"ok\", ms=3, label=\"Observed data\")\n",
    "ax.set_xlabel(\"X\")\n",
    "ax.set_ylabel(\"y\")\n",
    "plt.legend();"
   ]
  },
  {
   "cell_type": "code",
   "execution_count": 78,
   "id": "defd0230",
   "metadata": {},
   "outputs": [
    {
     "data": {
      "text/plain": [
       "array([[9.00000000e+00, 8.98111740e+00, 8.92509384e+00, ...,\n",
       "        4.08629167e-07, 3.68675054e-07, 3.32612660e-07],\n",
       "       [8.98111740e+00, 9.00000000e+00, 8.98111740e+00, ...,\n",
       "        4.52892803e-07, 4.08629167e-07, 3.68675054e-07],\n",
       "       [8.92509384e+00, 8.98111740e+00, 9.00000000e+00, ...,\n",
       "        5.01928364e-07, 4.52892803e-07, 4.08629167e-07],\n",
       "       ...,\n",
       "       [4.08629167e-07, 4.52892803e-07, 5.01928364e-07, ...,\n",
       "        9.00000000e+00, 8.98111740e+00, 8.92509384e+00],\n",
       "       [3.68675054e-07, 4.08629167e-07, 4.52892803e-07, ...,\n",
       "        8.98111740e+00, 9.00000000e+00, 8.98111740e+00],\n",
       "       [3.32612660e-07, 3.68675054e-07, 4.08629167e-07, ...,\n",
       "        8.92509384e+00, 8.98111740e+00, 9.00000000e+00]])"
      ]
     },
     "execution_count": 78,
     "metadata": {},
     "output_type": "execute_result"
    }
   ],
   "source": [
    "cov_func(X).eval()"
   ]
  },
  {
   "cell_type": "markdown",
   "id": "3d0df542",
   "metadata": {},
   "source": [
    "\n"
   ]
  },
  {
   "cell_type": "markdown",
   "id": "5be432ec",
   "metadata": {
    "slideshow": {
     "slide_type": "slide"
    }
   },
   "source": [
    "## Section 10: Multivariate normals\n",
    "* The distribution that underlies it all\n",
    "* How covariance"
   ]
  },
  {
   "cell_type": "markdown",
   "id": "253c9f67",
   "metadata": {
    "slideshow": {
     "slide_type": "slide"
    }
   },
   "source": [
    "## Section 20: ?"
   ]
  },
  {
   "cell_type": "markdown",
   "id": "8dfade7d",
   "metadata": {},
   "source": [
    "## Section 30: ?"
   ]
  },
  {
   "cell_type": "markdown",
   "id": "e7229b46",
   "metadata": {},
   "source": [
    "## Section 40: "
   ]
  },
  {
   "cell_type": "markdown",
   "id": "f339631f",
   "metadata": {},
   "source": [
    "# Section 10: Multivariate normals\n",
    "\n",
    "\n"
   ]
  },
  {
   "cell_type": "markdown",
   "id": "e0eae5ba",
   "metadata": {},
   "source": [
    "## Section Recap\n",
    "* Normal or Gaussian Distributions \n",
    "* Covariance is the relationship between the value on one dimension with another"
   ]
  },
  {
   "cell_type": "markdown",
   "id": "5c06e080",
   "metadata": {},
   "source": [
    "# Section 20: "
   ]
  },
  {
   "cell_type": "markdown",
   "id": "f1beabd7",
   "metadata": {},
   "source": [
    "## Section Recap"
   ]
  },
  {
   "cell_type": "markdown",
   "id": "fd05ce8d",
   "metadata": {},
   "source": [
    "# Section 30:"
   ]
  }
 ],
 "metadata": {
  "jupytext": {
   "formats": "md,ipynb"
  },
  "kernelspec": {
   "display_name": "Python 3 (ipykernel)",
   "language": "python",
   "name": "python3"
  },
  "language_info": {
   "codemirror_mode": {
    "name": "ipython",
    "version": 3
   },
   "file_extension": ".py",
   "mimetype": "text/x-python",
   "name": "python",
   "nbconvert_exporter": "python",
   "pygments_lexer": "ipython3",
   "version": "3.10.4"
  }
 },
 "nbformat": 4,
 "nbformat_minor": 5
}
